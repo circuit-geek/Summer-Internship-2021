{
  "nbformat": 4,
  "nbformat_minor": 0,
  "metadata": {
    "colab": {
      "name": "Basic_neural_network.ipynb",
      "provenance": [],
      "authorship_tag": "ABX9TyMfVzej5WQ2SFMRQi4nTE4W",
      "include_colab_link": true
    },
    "kernelspec": {
      "name": "python3",
      "display_name": "Python 3"
    },
    "language_info": {
      "name": "python"
    }
  },
  "cells": [
    {
      "cell_type": "markdown",
      "metadata": {
        "id": "view-in-github",
        "colab_type": "text"
      },
      "source": [
        "<a href=\"https://colab.research.google.com/github/circuit-geek/Summer-Internship-2021/blob/master/Basic_neural_network.ipynb\" target=\"_parent\"><img src=\"https://colab.research.google.com/assets/colab-badge.svg\" alt=\"Open In Colab\"/></a>"
      ]
    },
    {
      "cell_type": "markdown",
      "metadata": {
        "id": "03NCKA73C01X"
      },
      "source": [
        "**Introduction to Neural Networks with PyTorch**"
      ]
    },
    {
      "cell_type": "code",
      "metadata": {
        "id": "cK3sK0J4C9aS"
      },
      "source": [
        "import torch\n",
        "import torch.nn as nn"
      ],
      "execution_count": 1,
      "outputs": []
    },
    {
      "cell_type": "code",
      "metadata": {
        "colab": {
          "base_uri": "https://localhost:8080/"
        },
        "id": "i_b_mbk6DCOm",
        "outputId": "e81b22d1-ebcd-45fd-aa15-5c652cce0827"
      },
      "source": [
        "inputs = torch.Tensor([[73., 67., 43.],\n",
        "                       [91., 88., 64.],\n",
        "                       [87., 134., 58.],\n",
        "                       [102., 43., 37.],\n",
        "                       [69., 96., 70.],\n",
        "                       [74., 66., 43.],\n",
        "                       [91., 87., 65.],\n",
        "                       [88., 134., 59.],\n",
        "                       [101., 44., 37.],\n",
        "                       [68., 96., 71.],\n",
        "                       [73., 66., 44.],\n",
        "                       [92., 87., 64.],\n",
        "                       [87., 135., 57.],\n",
        "                       [103., 43.,36.],\n",
        "                       [68., 97., 70.]])\n",
        "\n",
        "targets = torch.Tensor([[56. , 70.],\n",
        "                        [81., 101.],\n",
        "                        [119., 133.],\n",
        "                        [22.,37.],\n",
        "                        [103., 119.],\n",
        "                        [57.,69.],\n",
        "                        [80.,102.],\n",
        "                        [118., 132.],\n",
        "                        [21.,38.],\n",
        "                        [104.,118.],\n",
        "                        [57.,69.],\n",
        "                        [82.,100.],\n",
        "                        [118.,134.],\n",
        "                        [20.,38.],\n",
        "                        [102., 120.]])\n",
        "\n",
        "print(inputs.dtype, targets.dtype)\n"
      ],
      "execution_count": 5,
      "outputs": [
        {
          "output_type": "stream",
          "text": [
            "torch.float32 torch.float32\n"
          ],
          "name": "stdout"
        }
      ]
    },
    {
      "cell_type": "markdown",
      "metadata": {
        "id": "dhxglWqoFonc"
      },
      "source": [
        "Unlike in the above example, where we have 15 inputs and target values, in real life dataset we will have 1000's values and many rows, so we break down these into several batches and perform gradient descent on them. So for this we use Dataset and Dataloader from torch utilities."
      ]
    },
    {
      "cell_type": "code",
      "metadata": {
        "id": "tClymlx0GawN"
      },
      "source": [
        "from torch.utils.data import TensorDataset"
      ],
      "execution_count": 3,
      "outputs": []
    },
    {
      "cell_type": "code",
      "metadata": {
        "colab": {
          "base_uri": "https://localhost:8080/"
        },
        "id": "6Yot0o6qGhvG",
        "outputId": "5bcdf511-2588-4e43-98c8-a162da64c16f"
      },
      "source": [
        "train_ds = TensorDataset(inputs, targets)\n",
        "train_ds[0:3]"
      ],
      "execution_count": 6,
      "outputs": [
        {
          "output_type": "execute_result",
          "data": {
            "text/plain": [
              "(tensor([[ 73.,  67.,  43.],\n",
              "         [ 91.,  88.,  64.],\n",
              "         [ 87., 134.,  58.]]), tensor([[ 56.,  70.],\n",
              "         [ 81., 101.],\n",
              "         [119., 133.]]))"
            ]
          },
          "metadata": {
            "tags": []
          },
          "execution_count": 6
        }
      ]
    },
    {
      "cell_type": "markdown",
      "metadata": {
        "id": "m4WFye7SIIVA"
      },
      "source": [
        "Now that we have prepared the dataset, now we use the dataloader to actually separate the data into batches again by using torch utilities, we have define the batch size while doing so."
      ]
    },
    {
      "cell_type": "code",
      "metadata": {
        "id": "D7XQk4H9Ibs4"
      },
      "source": [
        "from torch.utils.data import DataLoader"
      ],
      "execution_count": 7,
      "outputs": []
    },
    {
      "cell_type": "code",
      "metadata": {
        "id": "L-43koeqIjse"
      },
      "source": [
        "batch_size = 5\n",
        "train_dl = DataLoader(train_ds, batch_size, shuffle=True)"
      ],
      "execution_count": 8,
      "outputs": []
    },
    {
      "cell_type": "code",
      "metadata": {
        "colab": {
          "base_uri": "https://localhost:8080/"
        },
        "id": "UAhZz4RCItzd",
        "outputId": "97733f50-318e-44b2-8e25-64e74c8dfb81"
      },
      "source": [
        "for xd, yd in train_dl:\n",
        "  print(xd)\n",
        "  print(yd)\n",
        "  break"
      ],
      "execution_count": 9,
      "outputs": [
        {
          "output_type": "stream",
          "text": [
            "tensor([[ 87., 134.,  58.],\n",
            "        [101.,  44.,  37.],\n",
            "        [ 69.,  96.,  70.],\n",
            "        [ 87., 135.,  57.],\n",
            "        [ 73.,  67.,  43.]])\n",
            "tensor([[119., 133.],\n",
            "        [ 21.,  38.],\n",
            "        [103., 119.],\n",
            "        [118., 134.],\n",
            "        [ 56.,  70.]])\n"
          ],
          "name": "stdout"
        }
      ]
    },
    {
      "cell_type": "code",
      "metadata": {
        "colab": {
          "base_uri": "https://localhost:8080/"
        },
        "id": "q_YWJNh3I3q9",
        "outputId": "487a785c-e9b3-40a9-bcf1-d3e59bc7f224"
      },
      "source": [
        "model = nn.Linear(3 ,2)\n",
        "print(model.weight)\n",
        "print(model.bias)"
      ],
      "execution_count": 10,
      "outputs": [
        {
          "output_type": "stream",
          "text": [
            "Parameter containing:\n",
            "tensor([[ 0.3100, -0.5393,  0.4733],\n",
            "        [-0.3173,  0.5313, -0.5022]], requires_grad=True)\n",
            "Parameter containing:\n",
            "tensor([-0.4349,  0.2861], requires_grad=True)\n"
          ],
          "name": "stdout"
        }
      ]
    },
    {
      "cell_type": "code",
      "metadata": {
        "colab": {
          "base_uri": "https://localhost:8080/"
        },
        "id": "DxYHst_YKDHu",
        "outputId": "870046be-cf33-422c-a563-5e12a5dbf86f"
      },
      "source": [
        "list(model.parameters())"
      ],
      "execution_count": 12,
      "outputs": [
        {
          "output_type": "execute_result",
          "data": {
            "text/plain": [
              "[Parameter containing:\n",
              " tensor([[ 0.3100, -0.5393,  0.4733],\n",
              "         [-0.3173,  0.5313, -0.5022]], requires_grad=True),\n",
              " Parameter containing:\n",
              " tensor([-0.4349,  0.2861], requires_grad=True)]"
            ]
          },
          "metadata": {
            "tags": []
          },
          "execution_count": 12
        }
      ]
    },
    {
      "cell_type": "markdown",
      "metadata": {
        "id": "y-tyXgWlKU9K"
      },
      "source": [
        "parameters() method returns a list of all the weights and bias matrices present in the model, for this linear regression, it returns one weight matrix and one bias matrix."
      ]
    },
    {
      "cell_type": "code",
      "metadata": {
        "colab": {
          "base_uri": "https://localhost:8080/"
        },
        "id": "8Up0kdvaKK1F",
        "outputId": "f3efa104-a04b-40d6-c9dd-9f9e25fcc954"
      },
      "source": [
        "preds = model(inputs)\n",
        "print(preds)"
      ],
      "execution_count": 13,
      "outputs": [
        {
          "output_type": "stream",
          "text": [
            "tensor([[  6.4180,  -8.8712],\n",
            "        [ 10.6132, -13.9705],\n",
            "        [-18.2736,  14.7504],\n",
            "        [ 25.5118, -27.8093],\n",
            "        [  2.3181,  -5.7536],\n",
            "        [  7.2673,  -9.7197],\n",
            "        [ 11.6258, -15.0039],\n",
            "        [-17.4903,  13.9309],\n",
            "        [ 24.6625, -26.9608],\n",
            "        [  2.4814,  -5.9385],\n",
            "        [  7.4306,  -9.9047],\n",
            "        [ 11.4625, -14.8190],\n",
            "        [-19.2862,  15.7838],\n",
            "        [ 25.3485, -27.6244],\n",
            "        [  1.4688,  -4.9051]], grad_fn=<AddmmBackward>)\n"
          ],
          "name": "stdout"
        }
      ]
    },
    {
      "cell_type": "code",
      "metadata": {
        "id": "64v1Jb6xKs3d"
      },
      "source": [
        "import torch.nn.functional as F"
      ],
      "execution_count": 14,
      "outputs": []
    },
    {
      "cell_type": "code",
      "metadata": {
        "colab": {
          "base_uri": "https://localhost:8080/"
        },
        "id": "I7u9aXVUK1lm",
        "outputId": "cb4f3299-ffaa-444f-8413-81876d7b1ef1"
      },
      "source": [
        "loss_fn = F.mse_loss\n",
        "\n",
        "loss = loss_fn(model(inputs), targets)\n",
        "print(loss)"
      ],
      "execution_count": 15,
      "outputs": [
        {
          "output_type": "stream",
          "text": [
            "tensor(8951.0713, grad_fn=<MseLossBackward>)\n"
          ],
          "name": "stdout"
        }
      ]
    },
    {
      "cell_type": "code",
      "metadata": {
        "id": "ShiNwm9pK_v-"
      },
      "source": [
        "opt = torch.optim.SGD(model.parameters(), lr = 1e-5)"
      ],
      "execution_count": 16,
      "outputs": []
    },
    {
      "cell_type": "markdown",
      "metadata": {
        "id": "YtqvCSuELZfj"
      },
      "source": [
        "nn.functional has all the important functions like loss functions, activation functions that are needed for neural networks, and here we are SGD optimizer which taken in model.parameter() and the learning as the arguments. \n",
        "Now we are ready to train the model.\n",
        "\n",
        "\n",
        "1.   Generate Predictions\n",
        "2.   Calculate Loss\n",
        "3. Compute Gradients\n",
        "4. Update the parameters using gradients\n",
        "5. Reset the gradients to zero.\n",
        "\n",
        "\n"
      ]
    },
    {
      "cell_type": "code",
      "metadata": {
        "id": "ynAluy0PMQ9z"
      },
      "source": [
        "def fit(epochs, model, loss_fn, opt, train_dl):\n",
        "  for epoch in range(epochs):\n",
        "    for xd, yd in train_dl:\n",
        "      pred = model(xd)\n",
        "      loss = loss_fn(pred, yd)\n",
        "      loss.backward()\n",
        "      opt.step() # automatically update the gradients.\n",
        "      opt.zero_grad()\n",
        "    if (epoch+1) % 10 == 0:\n",
        "      print('Epoch[{}/{}], Loss: {:.4f}'.format(epoch+1, epochs, loss.item())) "
      ],
      "execution_count": 18,
      "outputs": []
    },
    {
      "cell_type": "code",
      "metadata": {
        "colab": {
          "base_uri": "https://localhost:8080/"
        },
        "id": "2HSPdGMKNbfj",
        "outputId": "7d6a8426-c66f-4119-b341-891e8395e722"
      },
      "source": [
        "fit(100, model, loss_fn, opt, train_dl)"
      ],
      "execution_count": 19,
      "outputs": [
        {
          "output_type": "stream",
          "text": [
            "Epoch[10/100], Loss: 631.9855\n",
            "Epoch[20/100], Loss: 389.4392\n",
            "Epoch[30/100], Loss: 282.2800\n",
            "Epoch[40/100], Loss: 277.1795\n",
            "Epoch[50/100], Loss: 177.5627\n",
            "Epoch[60/100], Loss: 115.9147\n",
            "Epoch[70/100], Loss: 96.5891\n",
            "Epoch[80/100], Loss: 99.8172\n",
            "Epoch[90/100], Loss: 62.0755\n",
            "Epoch[100/100], Loss: 54.4914\n"
          ],
          "name": "stdout"
        }
      ]
    },
    {
      "cell_type": "code",
      "metadata": {
        "colab": {
          "base_uri": "https://localhost:8080/"
        },
        "id": "lNxl-oUCNvw2",
        "outputId": "08ab416b-41a5-40a0-9521-3218f18b673a"
      },
      "source": [
        "new_preds = model(inputs)\n",
        "print(new_preds)"
      ],
      "execution_count": 21,
      "outputs": [
        {
          "output_type": "stream",
          "text": [
            "tensor([[ 58.5343,  71.4691],\n",
            "        [ 84.1839,  94.9368],\n",
            "        [111.3209, 144.2365],\n",
            "        [ 30.1055,  42.7361],\n",
            "        [100.0561, 105.8753],\n",
            "        [ 57.6002,  70.3139],\n",
            "        [ 84.2956,  93.9625],\n",
            "        [111.8357, 144.2644],\n",
            "        [ 31.0396,  43.8913],\n",
            "        [101.1020, 106.0561],\n",
            "        [ 58.6460,  70.4948],\n",
            "        [ 83.2498,  93.7816],\n",
            "        [111.2091, 145.2108],\n",
            "        [ 29.0596,  42.5553],\n",
            "        [100.9902, 107.0304]], grad_fn=<AddmmBackward>)\n"
          ],
          "name": "stdout"
        }
      ]
    },
    {
      "cell_type": "code",
      "metadata": {
        "colab": {
          "base_uri": "https://localhost:8080/"
        },
        "id": "FN0MD23tN2tt",
        "outputId": "c2f9560c-e3aa-48f6-f3d5-c63f7adc72b5"
      },
      "source": [
        "print(targets)"
      ],
      "execution_count": 22,
      "outputs": [
        {
          "output_type": "stream",
          "text": [
            "tensor([[ 56.,  70.],\n",
            "        [ 81., 101.],\n",
            "        [119., 133.],\n",
            "        [ 22.,  37.],\n",
            "        [103., 119.],\n",
            "        [ 57.,  69.],\n",
            "        [ 80., 102.],\n",
            "        [118., 132.],\n",
            "        [ 21.,  38.],\n",
            "        [104., 118.],\n",
            "        [ 57.,  69.],\n",
            "        [ 82., 100.],\n",
            "        [118., 134.],\n",
            "        [ 20.,  38.],\n",
            "        [102., 120.]])\n"
          ],
          "name": "stdout"
        }
      ]
    }
  ]
}