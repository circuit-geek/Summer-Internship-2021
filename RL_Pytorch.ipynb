{
  "nbformat": 4,
  "nbformat_minor": 0,
  "metadata": {
    "colab": {
      "name": "RL_Pytorch.ipynb",
      "provenance": [],
      "authorship_tag": "ABX9TyO+xxV4GWuZwiXU8hEjnloc",
      "include_colab_link": true
    },
    "kernelspec": {
      "name": "python3",
      "display_name": "Python 3"
    },
    "language_info": {
      "name": "python"
    }
  },
  "cells": [
    {
      "cell_type": "markdown",
      "metadata": {
        "id": "view-in-github",
        "colab_type": "text"
      },
      "source": [
        "<a href=\"https://colab.research.google.com/github/circuit-geek/Summer-Internship-2021/blob/master/RL_Pytorch.ipynb\" target=\"_parent\"><img src=\"https://colab.research.google.com/assets/colab-badge.svg\" alt=\"Open In Colab\"/></a>"
      ]
    },
    {
      "cell_type": "code",
      "metadata": {
        "id": "TI0GAM_U7AOx"
      },
      "source": [
        "import torch\n",
        "import torch.nn as nn\n",
        "import torch.nn.functional as F\n",
        "import torch.optim as optim\n",
        "import numpy as np"
      ],
      "execution_count": 1,
      "outputs": []
    },
    {
      "cell_type": "code",
      "metadata": {
        "id": "X_aNvTRm7awG"
      },
      "source": [
        "class DeepQNetwork(nn.Module):\n",
        "  def __init__(self, lr, input_dims, fc1_dims, fc2_dims, n_actions):\n",
        "    super(DeepQNetwork, self).__init__()\n",
        "    self.input_dims = input_dims\n",
        "    self.fc1_dims = fc1_dims\n",
        "    self.fc2_dims = fc2_dims\n",
        "    self.n_actions = n_actions\n",
        "    self.fc1 = nn.Linear(*self.input_dims, self.fc1_dims)\n",
        "    self.fc2 = nn.Linear(self.fc2_dims, self.n_actions)\n",
        "    self.optimizer = optim.Adam(self.parameters(), lr=lr)\n",
        "    self.loss = nn.MSELoss()"
      ],
      "execution_count": 2,
      "outputs": []
    },
    {
      "cell_type": "code",
      "metadata": {
        "id": "8XlDfmh08oB1"
      },
      "source": [
        "def forward(self, state):\n",
        "  x = F.relu(self.fc1(state))\n",
        "  x = F.relu(self.fc2(x))\n",
        "  actions = self.fc3(x)\n",
        "\n",
        "  return actions "
      ],
      "execution_count": 3,
      "outputs": []
    },
    {
      "cell_type": "code",
      "metadata": {
        "id": "3v1n9rDt85b6"
      },
      "source": [
        ""
      ],
      "execution_count": null,
      "outputs": []
    }
  ]
}