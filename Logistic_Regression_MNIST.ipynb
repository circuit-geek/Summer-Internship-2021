{
  "nbformat": 4,
  "nbformat_minor": 0,
  "metadata": {
    "colab": {
      "name": "Logistic_Regression_MNIST.ipynb",
      "provenance": [],
      "authorship_tag": "ABX9TyNHjcbhgAOpq5mCQAbOl9HP",
      "include_colab_link": true
    },
    "kernelspec": {
      "name": "python3",
      "display_name": "Python 3"
    },
    "language_info": {
      "name": "python"
    },
    "widgets": {
      "application/vnd.jupyter.widget-state+json": {
        "33ff08f4fc7e455fb048231f8f49781a": {
          "model_module": "@jupyter-widgets/controls",
          "model_name": "HBoxModel",
          "state": {
            "_view_name": "HBoxView",
            "_dom_classes": [],
            "_model_name": "HBoxModel",
            "_view_module": "@jupyter-widgets/controls",
            "_model_module_version": "1.5.0",
            "_view_count": null,
            "_view_module_version": "1.5.0",
            "box_style": "",
            "layout": "IPY_MODEL_4de47c16b1b747c9a2db0f6f6c75354e",
            "_model_module": "@jupyter-widgets/controls",
            "children": [
              "IPY_MODEL_014a820b7bf648f582d18b69785c2a8a",
              "IPY_MODEL_a1448c0de939484c8aec1ecf8b632262"
            ]
          }
        },
        "4de47c16b1b747c9a2db0f6f6c75354e": {
          "model_module": "@jupyter-widgets/base",
          "model_name": "LayoutModel",
          "state": {
            "_view_name": "LayoutView",
            "grid_template_rows": null,
            "right": null,
            "justify_content": null,
            "_view_module": "@jupyter-widgets/base",
            "overflow": null,
            "_model_module_version": "1.2.0",
            "_view_count": null,
            "flex_flow": null,
            "width": null,
            "min_width": null,
            "border": null,
            "align_items": null,
            "bottom": null,
            "_model_module": "@jupyter-widgets/base",
            "top": null,
            "grid_column": null,
            "overflow_y": null,
            "overflow_x": null,
            "grid_auto_flow": null,
            "grid_area": null,
            "grid_template_columns": null,
            "flex": null,
            "_model_name": "LayoutModel",
            "justify_items": null,
            "grid_row": null,
            "max_height": null,
            "align_content": null,
            "visibility": null,
            "align_self": null,
            "height": null,
            "min_height": null,
            "padding": null,
            "grid_auto_rows": null,
            "grid_gap": null,
            "max_width": null,
            "order": null,
            "_view_module_version": "1.2.0",
            "grid_template_areas": null,
            "object_position": null,
            "object_fit": null,
            "grid_auto_columns": null,
            "margin": null,
            "display": null,
            "left": null
          }
        },
        "014a820b7bf648f582d18b69785c2a8a": {
          "model_module": "@jupyter-widgets/controls",
          "model_name": "FloatProgressModel",
          "state": {
            "_view_name": "ProgressView",
            "style": "IPY_MODEL_4bcaa03b254242959db4b5b632a034b3",
            "_dom_classes": [],
            "description": "",
            "_model_name": "FloatProgressModel",
            "bar_style": "success",
            "max": 9912422,
            "_view_module": "@jupyter-widgets/controls",
            "_model_module_version": "1.5.0",
            "value": 9912422,
            "_view_count": null,
            "_view_module_version": "1.5.0",
            "orientation": "horizontal",
            "min": 0,
            "description_tooltip": null,
            "_model_module": "@jupyter-widgets/controls",
            "layout": "IPY_MODEL_d9191ab7412043af8d68094bb34589f5"
          }
        },
        "a1448c0de939484c8aec1ecf8b632262": {
          "model_module": "@jupyter-widgets/controls",
          "model_name": "HTMLModel",
          "state": {
            "_view_name": "HTMLView",
            "style": "IPY_MODEL_950b06b94a11462d9aa76a839b6db64a",
            "_dom_classes": [],
            "description": "",
            "_model_name": "HTMLModel",
            "placeholder": "​",
            "_view_module": "@jupyter-widgets/controls",
            "_model_module_version": "1.5.0",
            "value": " 9913344/? [00:26&lt;00:00, 367726.03it/s]",
            "_view_count": null,
            "_view_module_version": "1.5.0",
            "description_tooltip": null,
            "_model_module": "@jupyter-widgets/controls",
            "layout": "IPY_MODEL_3ef23a254c22452b847901a9be99a3dd"
          }
        },
        "4bcaa03b254242959db4b5b632a034b3": {
          "model_module": "@jupyter-widgets/controls",
          "model_name": "ProgressStyleModel",
          "state": {
            "_view_name": "StyleView",
            "_model_name": "ProgressStyleModel",
            "description_width": "initial",
            "_view_module": "@jupyter-widgets/base",
            "_model_module_version": "1.5.0",
            "_view_count": null,
            "_view_module_version": "1.2.0",
            "bar_color": null,
            "_model_module": "@jupyter-widgets/controls"
          }
        },
        "d9191ab7412043af8d68094bb34589f5": {
          "model_module": "@jupyter-widgets/base",
          "model_name": "LayoutModel",
          "state": {
            "_view_name": "LayoutView",
            "grid_template_rows": null,
            "right": null,
            "justify_content": null,
            "_view_module": "@jupyter-widgets/base",
            "overflow": null,
            "_model_module_version": "1.2.0",
            "_view_count": null,
            "flex_flow": null,
            "width": null,
            "min_width": null,
            "border": null,
            "align_items": null,
            "bottom": null,
            "_model_module": "@jupyter-widgets/base",
            "top": null,
            "grid_column": null,
            "overflow_y": null,
            "overflow_x": null,
            "grid_auto_flow": null,
            "grid_area": null,
            "grid_template_columns": null,
            "flex": null,
            "_model_name": "LayoutModel",
            "justify_items": null,
            "grid_row": null,
            "max_height": null,
            "align_content": null,
            "visibility": null,
            "align_self": null,
            "height": null,
            "min_height": null,
            "padding": null,
            "grid_auto_rows": null,
            "grid_gap": null,
            "max_width": null,
            "order": null,
            "_view_module_version": "1.2.0",
            "grid_template_areas": null,
            "object_position": null,
            "object_fit": null,
            "grid_auto_columns": null,
            "margin": null,
            "display": null,
            "left": null
          }
        },
        "950b06b94a11462d9aa76a839b6db64a": {
          "model_module": "@jupyter-widgets/controls",
          "model_name": "DescriptionStyleModel",
          "state": {
            "_view_name": "StyleView",
            "_model_name": "DescriptionStyleModel",
            "description_width": "",
            "_view_module": "@jupyter-widgets/base",
            "_model_module_version": "1.5.0",
            "_view_count": null,
            "_view_module_version": "1.2.0",
            "_model_module": "@jupyter-widgets/controls"
          }
        },
        "3ef23a254c22452b847901a9be99a3dd": {
          "model_module": "@jupyter-widgets/base",
          "model_name": "LayoutModel",
          "state": {
            "_view_name": "LayoutView",
            "grid_template_rows": null,
            "right": null,
            "justify_content": null,
            "_view_module": "@jupyter-widgets/base",
            "overflow": null,
            "_model_module_version": "1.2.0",
            "_view_count": null,
            "flex_flow": null,
            "width": null,
            "min_width": null,
            "border": null,
            "align_items": null,
            "bottom": null,
            "_model_module": "@jupyter-widgets/base",
            "top": null,
            "grid_column": null,
            "overflow_y": null,
            "overflow_x": null,
            "grid_auto_flow": null,
            "grid_area": null,
            "grid_template_columns": null,
            "flex": null,
            "_model_name": "LayoutModel",
            "justify_items": null,
            "grid_row": null,
            "max_height": null,
            "align_content": null,
            "visibility": null,
            "align_self": null,
            "height": null,
            "min_height": null,
            "padding": null,
            "grid_auto_rows": null,
            "grid_gap": null,
            "max_width": null,
            "order": null,
            "_view_module_version": "1.2.0",
            "grid_template_areas": null,
            "object_position": null,
            "object_fit": null,
            "grid_auto_columns": null,
            "margin": null,
            "display": null,
            "left": null
          }
        },
        "4d4bbedef22e46f9b6d2e333ece2318e": {
          "model_module": "@jupyter-widgets/controls",
          "model_name": "HBoxModel",
          "state": {
            "_view_name": "HBoxView",
            "_dom_classes": [],
            "_model_name": "HBoxModel",
            "_view_module": "@jupyter-widgets/controls",
            "_model_module_version": "1.5.0",
            "_view_count": null,
            "_view_module_version": "1.5.0",
            "box_style": "",
            "layout": "IPY_MODEL_0fc03ff1799e4bba9427f55c53a19763",
            "_model_module": "@jupyter-widgets/controls",
            "children": [
              "IPY_MODEL_ac92c29ef1474a7c902a3630316bd7db",
              "IPY_MODEL_753392dea3524c28931ca9c12b7f086c"
            ]
          }
        },
        "0fc03ff1799e4bba9427f55c53a19763": {
          "model_module": "@jupyter-widgets/base",
          "model_name": "LayoutModel",
          "state": {
            "_view_name": "LayoutView",
            "grid_template_rows": null,
            "right": null,
            "justify_content": null,
            "_view_module": "@jupyter-widgets/base",
            "overflow": null,
            "_model_module_version": "1.2.0",
            "_view_count": null,
            "flex_flow": null,
            "width": null,
            "min_width": null,
            "border": null,
            "align_items": null,
            "bottom": null,
            "_model_module": "@jupyter-widgets/base",
            "top": null,
            "grid_column": null,
            "overflow_y": null,
            "overflow_x": null,
            "grid_auto_flow": null,
            "grid_area": null,
            "grid_template_columns": null,
            "flex": null,
            "_model_name": "LayoutModel",
            "justify_items": null,
            "grid_row": null,
            "max_height": null,
            "align_content": null,
            "visibility": null,
            "align_self": null,
            "height": null,
            "min_height": null,
            "padding": null,
            "grid_auto_rows": null,
            "grid_gap": null,
            "max_width": null,
            "order": null,
            "_view_module_version": "1.2.0",
            "grid_template_areas": null,
            "object_position": null,
            "object_fit": null,
            "grid_auto_columns": null,
            "margin": null,
            "display": null,
            "left": null
          }
        },
        "ac92c29ef1474a7c902a3630316bd7db": {
          "model_module": "@jupyter-widgets/controls",
          "model_name": "FloatProgressModel",
          "state": {
            "_view_name": "ProgressView",
            "style": "IPY_MODEL_c822a8d96f03468a95a844d97f31b8b3",
            "_dom_classes": [],
            "description": "",
            "_model_name": "FloatProgressModel",
            "bar_style": "success",
            "max": 28881,
            "_view_module": "@jupyter-widgets/controls",
            "_model_module_version": "1.5.0",
            "value": 28881,
            "_view_count": null,
            "_view_module_version": "1.5.0",
            "orientation": "horizontal",
            "min": 0,
            "description_tooltip": null,
            "_model_module": "@jupyter-widgets/controls",
            "layout": "IPY_MODEL_9be16dd124e54de48947e593081eb64d"
          }
        },
        "753392dea3524c28931ca9c12b7f086c": {
          "model_module": "@jupyter-widgets/controls",
          "model_name": "HTMLModel",
          "state": {
            "_view_name": "HTMLView",
            "style": "IPY_MODEL_8cea304d12074963be9d65dce55d72e5",
            "_dom_classes": [],
            "description": "",
            "_model_name": "HTMLModel",
            "placeholder": "​",
            "_view_module": "@jupyter-widgets/controls",
            "_model_module_version": "1.5.0",
            "value": " 29696/? [00:02&lt;00:00, 13838.84it/s]",
            "_view_count": null,
            "_view_module_version": "1.5.0",
            "description_tooltip": null,
            "_model_module": "@jupyter-widgets/controls",
            "layout": "IPY_MODEL_2ae924e231db46dfad95d0431df09b1e"
          }
        },
        "c822a8d96f03468a95a844d97f31b8b3": {
          "model_module": "@jupyter-widgets/controls",
          "model_name": "ProgressStyleModel",
          "state": {
            "_view_name": "StyleView",
            "_model_name": "ProgressStyleModel",
            "description_width": "initial",
            "_view_module": "@jupyter-widgets/base",
            "_model_module_version": "1.5.0",
            "_view_count": null,
            "_view_module_version": "1.2.0",
            "bar_color": null,
            "_model_module": "@jupyter-widgets/controls"
          }
        },
        "9be16dd124e54de48947e593081eb64d": {
          "model_module": "@jupyter-widgets/base",
          "model_name": "LayoutModel",
          "state": {
            "_view_name": "LayoutView",
            "grid_template_rows": null,
            "right": null,
            "justify_content": null,
            "_view_module": "@jupyter-widgets/base",
            "overflow": null,
            "_model_module_version": "1.2.0",
            "_view_count": null,
            "flex_flow": null,
            "width": null,
            "min_width": null,
            "border": null,
            "align_items": null,
            "bottom": null,
            "_model_module": "@jupyter-widgets/base",
            "top": null,
            "grid_column": null,
            "overflow_y": null,
            "overflow_x": null,
            "grid_auto_flow": null,
            "grid_area": null,
            "grid_template_columns": null,
            "flex": null,
            "_model_name": "LayoutModel",
            "justify_items": null,
            "grid_row": null,
            "max_height": null,
            "align_content": null,
            "visibility": null,
            "align_self": null,
            "height": null,
            "min_height": null,
            "padding": null,
            "grid_auto_rows": null,
            "grid_gap": null,
            "max_width": null,
            "order": null,
            "_view_module_version": "1.2.0",
            "grid_template_areas": null,
            "object_position": null,
            "object_fit": null,
            "grid_auto_columns": null,
            "margin": null,
            "display": null,
            "left": null
          }
        },
        "8cea304d12074963be9d65dce55d72e5": {
          "model_module": "@jupyter-widgets/controls",
          "model_name": "DescriptionStyleModel",
          "state": {
            "_view_name": "StyleView",
            "_model_name": "DescriptionStyleModel",
            "description_width": "",
            "_view_module": "@jupyter-widgets/base",
            "_model_module_version": "1.5.0",
            "_view_count": null,
            "_view_module_version": "1.2.0",
            "_model_module": "@jupyter-widgets/controls"
          }
        },
        "2ae924e231db46dfad95d0431df09b1e": {
          "model_module": "@jupyter-widgets/base",
          "model_name": "LayoutModel",
          "state": {
            "_view_name": "LayoutView",
            "grid_template_rows": null,
            "right": null,
            "justify_content": null,
            "_view_module": "@jupyter-widgets/base",
            "overflow": null,
            "_model_module_version": "1.2.0",
            "_view_count": null,
            "flex_flow": null,
            "width": null,
            "min_width": null,
            "border": null,
            "align_items": null,
            "bottom": null,
            "_model_module": "@jupyter-widgets/base",
            "top": null,
            "grid_column": null,
            "overflow_y": null,
            "overflow_x": null,
            "grid_auto_flow": null,
            "grid_area": null,
            "grid_template_columns": null,
            "flex": null,
            "_model_name": "LayoutModel",
            "justify_items": null,
            "grid_row": null,
            "max_height": null,
            "align_content": null,
            "visibility": null,
            "align_self": null,
            "height": null,
            "min_height": null,
            "padding": null,
            "grid_auto_rows": null,
            "grid_gap": null,
            "max_width": null,
            "order": null,
            "_view_module_version": "1.2.0",
            "grid_template_areas": null,
            "object_position": null,
            "object_fit": null,
            "grid_auto_columns": null,
            "margin": null,
            "display": null,
            "left": null
          }
        },
        "5da5fecb18c04b00b4a44d525a37d162": {
          "model_module": "@jupyter-widgets/controls",
          "model_name": "HBoxModel",
          "state": {
            "_view_name": "HBoxView",
            "_dom_classes": [],
            "_model_name": "HBoxModel",
            "_view_module": "@jupyter-widgets/controls",
            "_model_module_version": "1.5.0",
            "_view_count": null,
            "_view_module_version": "1.5.0",
            "box_style": "",
            "layout": "IPY_MODEL_de7dfdeb97744813a5951b8f3d2f1350",
            "_model_module": "@jupyter-widgets/controls",
            "children": [
              "IPY_MODEL_5fb2f604a2b5441a8718252a62cc76b2",
              "IPY_MODEL_39060bac307a4d16a196c15317e81395"
            ]
          }
        },
        "de7dfdeb97744813a5951b8f3d2f1350": {
          "model_module": "@jupyter-widgets/base",
          "model_name": "LayoutModel",
          "state": {
            "_view_name": "LayoutView",
            "grid_template_rows": null,
            "right": null,
            "justify_content": null,
            "_view_module": "@jupyter-widgets/base",
            "overflow": null,
            "_model_module_version": "1.2.0",
            "_view_count": null,
            "flex_flow": null,
            "width": null,
            "min_width": null,
            "border": null,
            "align_items": null,
            "bottom": null,
            "_model_module": "@jupyter-widgets/base",
            "top": null,
            "grid_column": null,
            "overflow_y": null,
            "overflow_x": null,
            "grid_auto_flow": null,
            "grid_area": null,
            "grid_template_columns": null,
            "flex": null,
            "_model_name": "LayoutModel",
            "justify_items": null,
            "grid_row": null,
            "max_height": null,
            "align_content": null,
            "visibility": null,
            "align_self": null,
            "height": null,
            "min_height": null,
            "padding": null,
            "grid_auto_rows": null,
            "grid_gap": null,
            "max_width": null,
            "order": null,
            "_view_module_version": "1.2.0",
            "grid_template_areas": null,
            "object_position": null,
            "object_fit": null,
            "grid_auto_columns": null,
            "margin": null,
            "display": null,
            "left": null
          }
        },
        "5fb2f604a2b5441a8718252a62cc76b2": {
          "model_module": "@jupyter-widgets/controls",
          "model_name": "FloatProgressModel",
          "state": {
            "_view_name": "ProgressView",
            "style": "IPY_MODEL_ec497e6571bd41639c931371b922d122",
            "_dom_classes": [],
            "description": "",
            "_model_name": "FloatProgressModel",
            "bar_style": "success",
            "max": 1648877,
            "_view_module": "@jupyter-widgets/controls",
            "_model_module_version": "1.5.0",
            "value": 1648877,
            "_view_count": null,
            "_view_module_version": "1.5.0",
            "orientation": "horizontal",
            "min": 0,
            "description_tooltip": null,
            "_model_module": "@jupyter-widgets/controls",
            "layout": "IPY_MODEL_af237c57bef04940835e901d0fffe305"
          }
        },
        "39060bac307a4d16a196c15317e81395": {
          "model_module": "@jupyter-widgets/controls",
          "model_name": "HTMLModel",
          "state": {
            "_view_name": "HTMLView",
            "style": "IPY_MODEL_69462c01cd4644508db54d42778261c4",
            "_dom_classes": [],
            "description": "",
            "_model_name": "HTMLModel",
            "placeholder": "​",
            "_view_module": "@jupyter-widgets/controls",
            "_model_module_version": "1.5.0",
            "value": " 1649664/? [00:00&lt;00:00, 1668153.15it/s]",
            "_view_count": null,
            "_view_module_version": "1.5.0",
            "description_tooltip": null,
            "_model_module": "@jupyter-widgets/controls",
            "layout": "IPY_MODEL_acd32f938f4c47bb9d274421da95d776"
          }
        },
        "ec497e6571bd41639c931371b922d122": {
          "model_module": "@jupyter-widgets/controls",
          "model_name": "ProgressStyleModel",
          "state": {
            "_view_name": "StyleView",
            "_model_name": "ProgressStyleModel",
            "description_width": "initial",
            "_view_module": "@jupyter-widgets/base",
            "_model_module_version": "1.5.0",
            "_view_count": null,
            "_view_module_version": "1.2.0",
            "bar_color": null,
            "_model_module": "@jupyter-widgets/controls"
          }
        },
        "af237c57bef04940835e901d0fffe305": {
          "model_module": "@jupyter-widgets/base",
          "model_name": "LayoutModel",
          "state": {
            "_view_name": "LayoutView",
            "grid_template_rows": null,
            "right": null,
            "justify_content": null,
            "_view_module": "@jupyter-widgets/base",
            "overflow": null,
            "_model_module_version": "1.2.0",
            "_view_count": null,
            "flex_flow": null,
            "width": null,
            "min_width": null,
            "border": null,
            "align_items": null,
            "bottom": null,
            "_model_module": "@jupyter-widgets/base",
            "top": null,
            "grid_column": null,
            "overflow_y": null,
            "overflow_x": null,
            "grid_auto_flow": null,
            "grid_area": null,
            "grid_template_columns": null,
            "flex": null,
            "_model_name": "LayoutModel",
            "justify_items": null,
            "grid_row": null,
            "max_height": null,
            "align_content": null,
            "visibility": null,
            "align_self": null,
            "height": null,
            "min_height": null,
            "padding": null,
            "grid_auto_rows": null,
            "grid_gap": null,
            "max_width": null,
            "order": null,
            "_view_module_version": "1.2.0",
            "grid_template_areas": null,
            "object_position": null,
            "object_fit": null,
            "grid_auto_columns": null,
            "margin": null,
            "display": null,
            "left": null
          }
        },
        "69462c01cd4644508db54d42778261c4": {
          "model_module": "@jupyter-widgets/controls",
          "model_name": "DescriptionStyleModel",
          "state": {
            "_view_name": "StyleView",
            "_model_name": "DescriptionStyleModel",
            "description_width": "",
            "_view_module": "@jupyter-widgets/base",
            "_model_module_version": "1.5.0",
            "_view_count": null,
            "_view_module_version": "1.2.0",
            "_model_module": "@jupyter-widgets/controls"
          }
        },
        "acd32f938f4c47bb9d274421da95d776": {
          "model_module": "@jupyter-widgets/base",
          "model_name": "LayoutModel",
          "state": {
            "_view_name": "LayoutView",
            "grid_template_rows": null,
            "right": null,
            "justify_content": null,
            "_view_module": "@jupyter-widgets/base",
            "overflow": null,
            "_model_module_version": "1.2.0",
            "_view_count": null,
            "flex_flow": null,
            "width": null,
            "min_width": null,
            "border": null,
            "align_items": null,
            "bottom": null,
            "_model_module": "@jupyter-widgets/base",
            "top": null,
            "grid_column": null,
            "overflow_y": null,
            "overflow_x": null,
            "grid_auto_flow": null,
            "grid_area": null,
            "grid_template_columns": null,
            "flex": null,
            "_model_name": "LayoutModel",
            "justify_items": null,
            "grid_row": null,
            "max_height": null,
            "align_content": null,
            "visibility": null,
            "align_self": null,
            "height": null,
            "min_height": null,
            "padding": null,
            "grid_auto_rows": null,
            "grid_gap": null,
            "max_width": null,
            "order": null,
            "_view_module_version": "1.2.0",
            "grid_template_areas": null,
            "object_position": null,
            "object_fit": null,
            "grid_auto_columns": null,
            "margin": null,
            "display": null,
            "left": null
          }
        },
        "8282d61ca0e84a84afd6ccf92e2403b6": {
          "model_module": "@jupyter-widgets/controls",
          "model_name": "HBoxModel",
          "state": {
            "_view_name": "HBoxView",
            "_dom_classes": [],
            "_model_name": "HBoxModel",
            "_view_module": "@jupyter-widgets/controls",
            "_model_module_version": "1.5.0",
            "_view_count": null,
            "_view_module_version": "1.5.0",
            "box_style": "",
            "layout": "IPY_MODEL_3c873a5359b84b7db5a8ef38c3d248d7",
            "_model_module": "@jupyter-widgets/controls",
            "children": [
              "IPY_MODEL_9f333406e0914ebba22a8c39ac88dbf5",
              "IPY_MODEL_3a561645f5084e80b0dff9340db74716"
            ]
          }
        },
        "3c873a5359b84b7db5a8ef38c3d248d7": {
          "model_module": "@jupyter-widgets/base",
          "model_name": "LayoutModel",
          "state": {
            "_view_name": "LayoutView",
            "grid_template_rows": null,
            "right": null,
            "justify_content": null,
            "_view_module": "@jupyter-widgets/base",
            "overflow": null,
            "_model_module_version": "1.2.0",
            "_view_count": null,
            "flex_flow": null,
            "width": null,
            "min_width": null,
            "border": null,
            "align_items": null,
            "bottom": null,
            "_model_module": "@jupyter-widgets/base",
            "top": null,
            "grid_column": null,
            "overflow_y": null,
            "overflow_x": null,
            "grid_auto_flow": null,
            "grid_area": null,
            "grid_template_columns": null,
            "flex": null,
            "_model_name": "LayoutModel",
            "justify_items": null,
            "grid_row": null,
            "max_height": null,
            "align_content": null,
            "visibility": null,
            "align_self": null,
            "height": null,
            "min_height": null,
            "padding": null,
            "grid_auto_rows": null,
            "grid_gap": null,
            "max_width": null,
            "order": null,
            "_view_module_version": "1.2.0",
            "grid_template_areas": null,
            "object_position": null,
            "object_fit": null,
            "grid_auto_columns": null,
            "margin": null,
            "display": null,
            "left": null
          }
        },
        "9f333406e0914ebba22a8c39ac88dbf5": {
          "model_module": "@jupyter-widgets/controls",
          "model_name": "FloatProgressModel",
          "state": {
            "_view_name": "ProgressView",
            "style": "IPY_MODEL_ac8675db79804955a58095d82d506355",
            "_dom_classes": [],
            "description": "",
            "_model_name": "FloatProgressModel",
            "bar_style": "success",
            "max": 4542,
            "_view_module": "@jupyter-widgets/controls",
            "_model_module_version": "1.5.0",
            "value": 4542,
            "_view_count": null,
            "_view_module_version": "1.5.0",
            "orientation": "horizontal",
            "min": 0,
            "description_tooltip": null,
            "_model_module": "@jupyter-widgets/controls",
            "layout": "IPY_MODEL_0d8394eeb54d425d903a96270f9c2c8b"
          }
        },
        "3a561645f5084e80b0dff9340db74716": {
          "model_module": "@jupyter-widgets/controls",
          "model_name": "HTMLModel",
          "state": {
            "_view_name": "HTMLView",
            "style": "IPY_MODEL_9c1382fff0b24e319e8587b5befface6",
            "_dom_classes": [],
            "description": "",
            "_model_name": "HTMLModel",
            "placeholder": "​",
            "_view_module": "@jupyter-widgets/controls",
            "_model_module_version": "1.5.0",
            "value": " 5120/? [00:23&lt;00:00, 219.15it/s]",
            "_view_count": null,
            "_view_module_version": "1.5.0",
            "description_tooltip": null,
            "_model_module": "@jupyter-widgets/controls",
            "layout": "IPY_MODEL_4fcc25b818cf43e996098e13d1df5926"
          }
        },
        "ac8675db79804955a58095d82d506355": {
          "model_module": "@jupyter-widgets/controls",
          "model_name": "ProgressStyleModel",
          "state": {
            "_view_name": "StyleView",
            "_model_name": "ProgressStyleModel",
            "description_width": "initial",
            "_view_module": "@jupyter-widgets/base",
            "_model_module_version": "1.5.0",
            "_view_count": null,
            "_view_module_version": "1.2.0",
            "bar_color": null,
            "_model_module": "@jupyter-widgets/controls"
          }
        },
        "0d8394eeb54d425d903a96270f9c2c8b": {
          "model_module": "@jupyter-widgets/base",
          "model_name": "LayoutModel",
          "state": {
            "_view_name": "LayoutView",
            "grid_template_rows": null,
            "right": null,
            "justify_content": null,
            "_view_module": "@jupyter-widgets/base",
            "overflow": null,
            "_model_module_version": "1.2.0",
            "_view_count": null,
            "flex_flow": null,
            "width": null,
            "min_width": null,
            "border": null,
            "align_items": null,
            "bottom": null,
            "_model_module": "@jupyter-widgets/base",
            "top": null,
            "grid_column": null,
            "overflow_y": null,
            "overflow_x": null,
            "grid_auto_flow": null,
            "grid_area": null,
            "grid_template_columns": null,
            "flex": null,
            "_model_name": "LayoutModel",
            "justify_items": null,
            "grid_row": null,
            "max_height": null,
            "align_content": null,
            "visibility": null,
            "align_self": null,
            "height": null,
            "min_height": null,
            "padding": null,
            "grid_auto_rows": null,
            "grid_gap": null,
            "max_width": null,
            "order": null,
            "_view_module_version": "1.2.0",
            "grid_template_areas": null,
            "object_position": null,
            "object_fit": null,
            "grid_auto_columns": null,
            "margin": null,
            "display": null,
            "left": null
          }
        },
        "9c1382fff0b24e319e8587b5befface6": {
          "model_module": "@jupyter-widgets/controls",
          "model_name": "DescriptionStyleModel",
          "state": {
            "_view_name": "StyleView",
            "_model_name": "DescriptionStyleModel",
            "description_width": "",
            "_view_module": "@jupyter-widgets/base",
            "_model_module_version": "1.5.0",
            "_view_count": null,
            "_view_module_version": "1.2.0",
            "_model_module": "@jupyter-widgets/controls"
          }
        },
        "4fcc25b818cf43e996098e13d1df5926": {
          "model_module": "@jupyter-widgets/base",
          "model_name": "LayoutModel",
          "state": {
            "_view_name": "LayoutView",
            "grid_template_rows": null,
            "right": null,
            "justify_content": null,
            "_view_module": "@jupyter-widgets/base",
            "overflow": null,
            "_model_module_version": "1.2.0",
            "_view_count": null,
            "flex_flow": null,
            "width": null,
            "min_width": null,
            "border": null,
            "align_items": null,
            "bottom": null,
            "_model_module": "@jupyter-widgets/base",
            "top": null,
            "grid_column": null,
            "overflow_y": null,
            "overflow_x": null,
            "grid_auto_flow": null,
            "grid_area": null,
            "grid_template_columns": null,
            "flex": null,
            "_model_name": "LayoutModel",
            "justify_items": null,
            "grid_row": null,
            "max_height": null,
            "align_content": null,
            "visibility": null,
            "align_self": null,
            "height": null,
            "min_height": null,
            "padding": null,
            "grid_auto_rows": null,
            "grid_gap": null,
            "max_width": null,
            "order": null,
            "_view_module_version": "1.2.0",
            "grid_template_areas": null,
            "object_position": null,
            "object_fit": null,
            "grid_auto_columns": null,
            "margin": null,
            "display": null,
            "left": null
          }
        }
      }
    }
  },
  "cells": [
    {
      "cell_type": "markdown",
      "metadata": {
        "id": "view-in-github",
        "colab_type": "text"
      },
      "source": [
        "<a href=\"https://colab.research.google.com/github/circuit-geek/Summer-Internship-2021/blob/main/Logistic_Regression_MNIST.ipynb\" target=\"_parent\"><img src=\"https://colab.research.google.com/assets/colab-badge.svg\" alt=\"Open In Colab\"/></a>"
      ]
    },
    {
      "cell_type": "markdown",
      "metadata": {
        "id": "xHtVrbrqhsq1"
      },
      "source": [
        "**Neural Networks with Logistic Regression and working with MNIST Dataset**"
      ]
    },
    {
      "cell_type": "code",
      "metadata": {
        "id": "vjFTWwkTh2OO"
      },
      "source": [
        "import torch\n",
        "import torchvision\n",
        "from torchvision.datasets import MNIST"
      ],
      "execution_count": 1,
      "outputs": []
    },
    {
      "cell_type": "markdown",
      "metadata": {
        "id": "CZPtU7OHijw8"
      },
      "source": [
        "Here we have imported all the required libraries, in addition to torch we import torchvision which is used for handling data that includes images."
      ]
    },
    {
      "cell_type": "code",
      "metadata": {
        "colab": {
          "base_uri": "https://localhost:8080/",
          "height": 702,
          "referenced_widgets": [
            "33ff08f4fc7e455fb048231f8f49781a",
            "4de47c16b1b747c9a2db0f6f6c75354e",
            "014a820b7bf648f582d18b69785c2a8a",
            "a1448c0de939484c8aec1ecf8b632262",
            "4bcaa03b254242959db4b5b632a034b3",
            "d9191ab7412043af8d68094bb34589f5",
            "950b06b94a11462d9aa76a839b6db64a",
            "3ef23a254c22452b847901a9be99a3dd",
            "4d4bbedef22e46f9b6d2e333ece2318e",
            "0fc03ff1799e4bba9427f55c53a19763",
            "ac92c29ef1474a7c902a3630316bd7db",
            "753392dea3524c28931ca9c12b7f086c",
            "c822a8d96f03468a95a844d97f31b8b3",
            "9be16dd124e54de48947e593081eb64d",
            "8cea304d12074963be9d65dce55d72e5",
            "2ae924e231db46dfad95d0431df09b1e",
            "5da5fecb18c04b00b4a44d525a37d162",
            "de7dfdeb97744813a5951b8f3d2f1350",
            "5fb2f604a2b5441a8718252a62cc76b2",
            "39060bac307a4d16a196c15317e81395",
            "ec497e6571bd41639c931371b922d122",
            "af237c57bef04940835e901d0fffe305",
            "69462c01cd4644508db54d42778261c4",
            "acd32f938f4c47bb9d274421da95d776",
            "8282d61ca0e84a84afd6ccf92e2403b6",
            "3c873a5359b84b7db5a8ef38c3d248d7",
            "9f333406e0914ebba22a8c39ac88dbf5",
            "3a561645f5084e80b0dff9340db74716",
            "ac8675db79804955a58095d82d506355",
            "0d8394eeb54d425d903a96270f9c2c8b",
            "9c1382fff0b24e319e8587b5befface6",
            "4fcc25b818cf43e996098e13d1df5926"
          ]
        },
        "id": "LERgR8caiw2J",
        "outputId": "16a52303-5dbc-41f5-b64e-1c95a22aedcb"
      },
      "source": [
        "dataset = MNIST(root= 'data/', download=True) #downloading the training dataset"
      ],
      "execution_count": 2,
      "outputs": [
        {
          "output_type": "stream",
          "text": [
            "Downloading http://yann.lecun.com/exdb/mnist/train-images-idx3-ubyte.gz\n",
            "Downloading http://yann.lecun.com/exdb/mnist/train-images-idx3-ubyte.gz to data/MNIST/raw/train-images-idx3-ubyte.gz\n",
            "Failed to download (trying next):\n",
            "HTTP Error 503: Service Unavailable\n",
            "\n",
            "Downloading https://ossci-datasets.s3.amazonaws.com/mnist/train-images-idx3-ubyte.gz\n",
            "Downloading https://ossci-datasets.s3.amazonaws.com/mnist/train-images-idx3-ubyte.gz to data/MNIST/raw/train-images-idx3-ubyte.gz\n"
          ],
          "name": "stdout"
        },
        {
          "output_type": "display_data",
          "data": {
            "application/vnd.jupyter.widget-view+json": {
              "model_id": "33ff08f4fc7e455fb048231f8f49781a",
              "version_minor": 0,
              "version_major": 2
            },
            "text/plain": [
              "HBox(children=(FloatProgress(value=0.0, max=9912422.0), HTML(value='')))"
            ]
          },
          "metadata": {
            "tags": []
          }
        },
        {
          "output_type": "stream",
          "text": [
            "\n",
            "Extracting data/MNIST/raw/train-images-idx3-ubyte.gz to data/MNIST/raw\n",
            "\n",
            "Downloading http://yann.lecun.com/exdb/mnist/train-labels-idx1-ubyte.gz\n",
            "Downloading http://yann.lecun.com/exdb/mnist/train-labels-idx1-ubyte.gz to data/MNIST/raw/train-labels-idx1-ubyte.gz\n"
          ],
          "name": "stdout"
        },
        {
          "output_type": "display_data",
          "data": {
            "application/vnd.jupyter.widget-view+json": {
              "model_id": "4d4bbedef22e46f9b6d2e333ece2318e",
              "version_minor": 0,
              "version_major": 2
            },
            "text/plain": [
              "HBox(children=(FloatProgress(value=0.0, max=28881.0), HTML(value='')))"
            ]
          },
          "metadata": {
            "tags": []
          }
        },
        {
          "output_type": "stream",
          "text": [
            "\n",
            "Extracting data/MNIST/raw/train-labels-idx1-ubyte.gz to data/MNIST/raw\n",
            "\n",
            "Downloading http://yann.lecun.com/exdb/mnist/t10k-images-idx3-ubyte.gz\n",
            "Downloading http://yann.lecun.com/exdb/mnist/t10k-images-idx3-ubyte.gz to data/MNIST/raw/t10k-images-idx3-ubyte.gz\n",
            "Failed to download (trying next):\n",
            "HTTP Error 503: Service Unavailable\n",
            "\n",
            "Downloading https://ossci-datasets.s3.amazonaws.com/mnist/t10k-images-idx3-ubyte.gz\n",
            "Downloading https://ossci-datasets.s3.amazonaws.com/mnist/t10k-images-idx3-ubyte.gz to data/MNIST/raw/t10k-images-idx3-ubyte.gz\n"
          ],
          "name": "stdout"
        },
        {
          "output_type": "display_data",
          "data": {
            "application/vnd.jupyter.widget-view+json": {
              "model_id": "5da5fecb18c04b00b4a44d525a37d162",
              "version_minor": 0,
              "version_major": 2
            },
            "text/plain": [
              "HBox(children=(FloatProgress(value=0.0, max=1648877.0), HTML(value='')))"
            ]
          },
          "metadata": {
            "tags": []
          }
        },
        {
          "output_type": "stream",
          "text": [
            "\n",
            "Extracting data/MNIST/raw/t10k-images-idx3-ubyte.gz to data/MNIST/raw\n",
            "\n",
            "Downloading http://yann.lecun.com/exdb/mnist/t10k-labels-idx1-ubyte.gz\n",
            "Downloading http://yann.lecun.com/exdb/mnist/t10k-labels-idx1-ubyte.gz to data/MNIST/raw/t10k-labels-idx1-ubyte.gz\n"
          ],
          "name": "stdout"
        },
        {
          "output_type": "display_data",
          "data": {
            "application/vnd.jupyter.widget-view+json": {
              "model_id": "8282d61ca0e84a84afd6ccf92e2403b6",
              "version_minor": 0,
              "version_major": 2
            },
            "text/plain": [
              "HBox(children=(FloatProgress(value=0.0, max=4542.0), HTML(value='')))"
            ]
          },
          "metadata": {
            "tags": []
          }
        },
        {
          "output_type": "stream",
          "text": [
            "\n",
            "Extracting data/MNIST/raw/t10k-labels-idx1-ubyte.gz to data/MNIST/raw\n",
            "\n"
          ],
          "name": "stdout"
        },
        {
          "output_type": "stream",
          "text": [
            "/usr/local/lib/python3.7/dist-packages/torchvision/datasets/mnist.py:498: UserWarning: The given NumPy array is not writeable, and PyTorch does not support non-writeable tensors. This means you can write to the underlying (supposedly non-writeable) NumPy array using the tensor. You may want to copy the array to protect its data or make it writeable before converting it to a tensor. This type of warning will be suppressed for the rest of this program. (Triggered internally at  /pytorch/torch/csrc/utils/tensor_numpy.cpp:180.)\n",
            "  return torch.from_numpy(parsed.astype(m[2], copy=False)).view(*s)\n"
          ],
          "name": "stderr"
        }
      ]
    },
    {
      "cell_type": "code",
      "metadata": {
        "colab": {
          "base_uri": "https://localhost:8080/"
        },
        "id": "4opj5D1Ti7aZ",
        "outputId": "6bafda57-8063-426d-d8f4-c3e8082ec8f8"
      },
      "source": [
        "len(dataset)"
      ],
      "execution_count": 3,
      "outputs": [
        {
          "output_type": "execute_result",
          "data": {
            "text/plain": [
              "60000"
            ]
          },
          "metadata": {
            "tags": []
          },
          "execution_count": 3
        }
      ]
    },
    {
      "cell_type": "markdown",
      "metadata": {
        "id": "cO05Ac3djxis"
      },
      "source": [
        "This show the training dataset has about 60000 images which can be used for training the model, next we initialize the test set with changing the parameter of train to be false. "
      ]
    },
    {
      "cell_type": "code",
      "metadata": {
        "id": "QfRtyflUjcsv"
      },
      "source": [
        "test_dataset = MNIST(root= 'data/', train=False) #initialzing the test dataset"
      ],
      "execution_count": 4,
      "outputs": []
    },
    {
      "cell_type": "code",
      "metadata": {
        "colab": {
          "base_uri": "https://localhost:8080/"
        },
        "id": "SnmDNPitjvuP",
        "outputId": "3ca12e0b-1c72-46e3-ed25-14f9edb7c95b"
      },
      "source": [
        "dataset[0]"
      ],
      "execution_count": 5,
      "outputs": [
        {
          "output_type": "execute_result",
          "data": {
            "text/plain": [
              "(<PIL.Image.Image image mode=L size=28x28 at 0x7FCE20AB2550>, 5)"
            ]
          },
          "metadata": {
            "tags": []
          },
          "execution_count": 5
        }
      ]
    },
    {
      "cell_type": "markdown",
      "metadata": {
        "id": "ggwMPn2SkMc3"
      },
      "source": [
        "The output here shows that the image is an object of class PIL.Image.Image which itself comes from a Python Library called Pillow, it is library used for imaging, we can see the image using Matplotlib."
      ]
    },
    {
      "cell_type": "code",
      "metadata": {
        "id": "VCyW7m9bkKzo"
      },
      "source": [
        "import matplotlib.pyplot as plt"
      ],
      "execution_count": 6,
      "outputs": []
    },
    {
      "cell_type": "code",
      "metadata": {
        "colab": {
          "base_uri": "https://localhost:8080/",
          "height": 282
        },
        "id": "_ZwuegGEkz9x",
        "outputId": "72916d90-c432-49ac-b8ca-6ddfee4704c5"
      },
      "source": [
        "image, label = dataset[0]\n",
        "plt.imshow(image, cmap='gray')\n",
        "print('Label:', label)"
      ],
      "execution_count": 7,
      "outputs": [
        {
          "output_type": "stream",
          "text": [
            "Label: 5\n"
          ],
          "name": "stdout"
        },
        {
          "output_type": "display_data",
          "data": {
            "image/png": "[encoded data removed]",
            "text/plain": [
              "<Figure size 432x288 with 1 Axes>"
            ]
          },
          "metadata": {
            "tags": [],
            "needs_background": "light"
          }
        }
      ]
    },
    {
      "cell_type": "code",
      "metadata": {
        "colab": {
          "base_uri": "https://localhost:8080/",
          "height": 282
        },
        "id": "ZHAN54z0lLB3",
        "outputId": "9e668282-a90b-48e6-8e50-905aadf7930a"
      },
      "source": [
        "image, label = dataset[12]\n",
        "plt.imshow(image, cmap='gray')\n",
        "print('Label:', label)"
      ],
      "execution_count": 8,
      "outputs": [
        {
          "output_type": "stream",
          "text": [
            "Label: 3\n"
          ],
          "name": "stdout"
        },
        {
          "output_type": "display_data",
          "data": {
            "image/png": "[encoded data removed]",
            "text/plain": [
              "<Figure size 432x288 with 1 Axes>"
            ]
          },
          "metadata": {
            "tags": [],
            "needs_background": "light"
          }
        }
      ]
    },
    {
      "cell_type": "markdown",
      "metadata": {
        "id": "q5pIgksQltSA"
      },
      "source": [
        "Now that images are displayed, Pytorch can only work with tensors and not plain images, so we have transform the images to tensors using a pytorch library from torchvision."
      ]
    },
    {
      "cell_type": "code",
      "metadata": {
        "id": "UlkY5uu7laHQ"
      },
      "source": [
        "import torchvision.transforms as transforms"
      ],
      "execution_count": 9,
      "outputs": []
    },
    {
      "cell_type": "code",
      "metadata": {
        "id": "eTFS6JjJmKdO"
      },
      "source": [
        "dataset = MNIST(root= 'data/', train=True, transform=transforms.ToTensor())"
      ],
      "execution_count": 10,
      "outputs": []
    },
    {
      "cell_type": "code",
      "metadata": {
        "colab": {
          "base_uri": "https://localhost:8080/"
        },
        "id": "ol2TClqYmchI",
        "outputId": "0808c13d-aa0a-4db9-fe07-f2be6b51892b"
      },
      "source": [
        "img_tensor, label = dataset[0]\n",
        "print(img_tensor.shape)\n",
        "print('Label:', label)"
      ],
      "execution_count": 11,
      "outputs": [
        {
          "output_type": "stream",
          "text": [
            "torch.Size([1, 28, 28])\n",
            "Label: 5\n"
          ],
          "name": "stdout"
        }
      ]
    },
    {
      "cell_type": "code",
      "metadata": {
        "colab": {
          "base_uri": "https://localhost:8080/"
        },
        "id": "ptHcqev1mpaA",
        "outputId": "591fa2fb-20b6-4cca-cb5e-03b2e8331fab"
      },
      "source": [
        "print(img_tensor[0,10:15,10:15])\n",
        "print(torch.max(img_tensor))\n",
        "print(torch.min(img_tensor))"
      ],
      "execution_count": 12,
      "outputs": [
        {
          "output_type": "stream",
          "text": [
            "tensor([[0.0039, 0.6039, 0.9922, 0.3529, 0.0000],\n",
            "        [0.0000, 0.5451, 0.9922, 0.7451, 0.0078],\n",
            "        [0.0000, 0.0431, 0.7451, 0.9922, 0.2745],\n",
            "        [0.0000, 0.0000, 0.1373, 0.9451, 0.8824],\n",
            "        [0.0000, 0.0000, 0.0000, 0.3176, 0.9412]])\n",
            "tensor(1.)\n",
            "tensor(0.)\n"
          ],
          "name": "stdout"
        }
      ]
    },
    {
      "cell_type": "markdown",
      "metadata": {
        "id": "r78-k0OO_K45"
      },
      "source": [
        "So from the above we can understand the img_tensor has converted the image to equivalent tensor value and the maximum tensor value being 1 and the minimum being 0. The Value 1 corresponds to white and 0 corresponds to black. We can represent this as a graph to using Matplotlib."
      ]
    },
    {
      "cell_type": "code",
      "metadata": {
        "colab": {
          "base_uri": "https://localhost:8080/",
          "height": 282
        },
        "id": "g2Sj4zY6_I2S",
        "outputId": "1768d661-02ab-4f45-ad96-12ee5daf16db"
      },
      "source": [
        "plt.imshow(img_tensor[0,10:15,10:15], cmap='gray')"
      ],
      "execution_count": 13,
      "outputs": [
        {
          "output_type": "execute_result",
          "data": {
            "text/plain": [
              "<matplotlib.image.AxesImage at 0x7fce1c521cd0>"
            ]
          },
          "metadata": {
            "tags": []
          },
          "execution_count": 13
        },
        {
          "output_type": "display_data",
          "data": {
            "image/png": "[encoded data removed]",
            "text/plain": [
              "<Figure size 432x288 with 1 Axes>"
            ]
          },
          "metadata": {
            "tags": [],
            "needs_background": "light"
          }
        }
      ]
    },
    {
      "cell_type": "markdown",
      "metadata": {
        "id": "v9UBulQGAFH7"
      },
      "source": [
        "So now we can start training the model, so now we have to separate the whole dataset into training, validation and test set, here we 60000 images for training so we separate this to 50000 and 10000 for training and validation set."
      ]
    },
    {
      "cell_type": "code",
      "metadata": {
        "colab": {
          "base_uri": "https://localhost:8080/"
        },
        "id": "0HJYjV8c_xt7",
        "outputId": "6e7c7ccd-c371-49b0-a330-5a4275626bb1"
      },
      "source": [
        "from torch.utils.data import random_split\n",
        "\n",
        "train_ds, valid_ds = random_split(dataset, [50000,10000])\n",
        "print(len(train_ds))\n",
        "print(len(valid_ds))"
      ],
      "execution_count": 14,
      "outputs": [
        {
          "output_type": "stream",
          "text": [
            "50000\n",
            "10000\n"
          ],
          "name": "stdout"
        }
      ]
    },
    {
      "cell_type": "markdown",
      "metadata": {
        "id": "EJVJJ6NZA4K1"
      },
      "source": [
        "MNIST data is sorted according to the numbers starting from 0's, 1's and so on, so only choosing the last 10000 images from the dataset would result in the values of 8's and 9's in validation set, and training set won't contain those values, so we can use dataloader to overcome this."
      ]
    },
    {
      "cell_type": "code",
      "metadata": {
        "id": "I9-CqTP2ArhU"
      },
      "source": [
        "from torch.utils.data import DataLoader\n",
        "\n",
        "batch_size = 128\n",
        "\n",
        "train_loader = DataLoader(train_ds, batch_size, shuffle=True)\n",
        "valid_loader = DataLoader(valid_ds, batch_size)"
      ],
      "execution_count": 15,
      "outputs": []
    },
    {
      "cell_type": "markdown",
      "metadata": {
        "id": "BUGNgdpdCu1p"
      },
      "source": [
        "Like linear regression, even logistic regression is also very similar where we do matrix multiplication with transposed matrix of weights which is later summed up with the bias. Since now nn.Linear which we will be using expects a vector value, now the image we have is 1*28*28, which is converted to vector by multiplying 28*28 to value of 784, this represents the pixel values now of the image. "
      ]
    },
    {
      "cell_type": "code",
      "metadata": {
        "id": "Hvye1-QVB1m8"
      },
      "source": [
        "import torch.nn as nn"
      ],
      "execution_count": 16,
      "outputs": []
    },
    {
      "cell_type": "code",
      "metadata": {
        "id": "t-3ToQ5ODaFy"
      },
      "source": [
        "input_size = 28*28\n",
        "num_classes = 10\n",
        "\n",
        "model = nn.Linear(input_size, num_classes) #logistic regression model"
      ],
      "execution_count": 17,
      "outputs": []
    },
    {
      "cell_type": "code",
      "metadata": {
        "colab": {
          "base_uri": "https://localhost:8080/"
        },
        "id": "5Jniqe9XDqbh",
        "outputId": "3558095d-c235-423f-ee69-dae6d388062e"
      },
      "source": [
        "print(model.weight.shape)\n",
        "print(model.weight)"
      ],
      "execution_count": 18,
      "outputs": [
        {
          "output_type": "stream",
          "text": [
            "torch.Size([10, 784])\n",
            "Parameter containing:\n",
            "tensor([[ 0.0293, -0.0200, -0.0231,  ..., -0.0302,  0.0012,  0.0003],\n",
            "        [-0.0135, -0.0054,  0.0348,  ...,  0.0026,  0.0045, -0.0352],\n",
            "        [-0.0131,  0.0262, -0.0091,  ...,  0.0277, -0.0132, -0.0242],\n",
            "        ...,\n",
            "        [-0.0072, -0.0262,  0.0119,  ..., -0.0006, -0.0128, -0.0298],\n",
            "        [-0.0350, -0.0278, -0.0115,  ..., -0.0278,  0.0252,  0.0208],\n",
            "        [ 0.0130,  0.0300,  0.0091,  ..., -0.0253,  0.0034,  0.0238]],\n",
            "       requires_grad=True)\n"
          ],
          "name": "stdout"
        }
      ]
    },
    {
      "cell_type": "code",
      "metadata": {
        "colab": {
          "base_uri": "https://localhost:8080/"
        },
        "id": "z0gtQKOzDwtS",
        "outputId": "4cb1e0c5-d212-42e0-c7f7-a162a33f7a66"
      },
      "source": [
        "print(model.bias.shape)\n",
        "print(model.bias)"
      ],
      "execution_count": 19,
      "outputs": [
        {
          "output_type": "stream",
          "text": [
            "torch.Size([10])\n",
            "Parameter containing:\n",
            "tensor([-0.0093,  0.0117,  0.0060,  0.0143, -0.0034, -0.0215,  0.0059,  0.0006,\n",
            "        -0.0245,  0.0343], requires_grad=True)\n"
          ],
          "name": "stdout"
        }
      ]
    },
    {
      "cell_type": "code",
      "metadata": {
        "colab": {
          "base_uri": "https://localhost:8080/",
          "height": 471
        },
        "id": "KcWcI5wYD2hJ",
        "outputId": "0331a328-5360-4114-828d-c6653b6f0420"
      },
      "source": [
        "for images,labels in train_loader:\n",
        "  print(labels)\n",
        "  print(images.shape)\n",
        "  outputs = model(images)\n",
        "  break"
      ],
      "execution_count": 21,
      "outputs": [
        {
          "output_type": "stream",
          "text": [
            "tensor([8, 2, 8, 4, 0, 1, 4, 8, 1, 5, 5, 4, 5, 3, 0, 7, 4, 6, 5, 7, 1, 5, 0, 2,\n",
            "        3, 1, 8, 4, 9, 4, 4, 9, 8, 2, 2, 3, 8, 7, 0, 2, 0, 5, 6, 3, 9, 9, 4, 7,\n",
            "        8, 3, 0, 9, 5, 9, 1, 1, 5, 2, 4, 8, 9, 5, 5, 0, 2, 1, 1, 7, 5, 9, 5, 2,\n",
            "        2, 2, 5, 2, 4, 5, 0, 2, 2, 0, 5, 9, 1, 4, 4, 3, 8, 2, 1, 8, 2, 2, 7, 0,\n",
            "        3, 0, 7, 8, 1, 4, 6, 6, 1, 1, 8, 2, 6, 4, 4, 8, 5, 4, 9, 2, 6, 7, 5, 6,\n",
            "        2, 4, 5, 7, 4, 9, 5, 9])\n",
            "torch.Size([128, 1, 28, 28])\n"
          ],
          "name": "stdout"
        },
        {
          "output_type": "error",
          "ename": "RuntimeError",
          "evalue": "ignored",
          "traceback": [
            "\u001b[0;31m---------------------------------------------------------------------------\u001b[0m",
            "\u001b[0;31mRuntimeError\u001b[0m                              Traceback (most recent call last)",
            "\u001b[0;32m<ipython-input-21-2d3c048001cd>\u001b[0m in \u001b[0;36m<module>\u001b[0;34m()\u001b[0m\n\u001b[1;32m      2\u001b[0m   \u001b[0mprint\u001b[0m\u001b[0;34m(\u001b[0m\u001b[0mlabels\u001b[0m\u001b[0;34m)\u001b[0m\u001b[0;34m\u001b[0m\u001b[0;34m\u001b[0m\u001b[0m\n\u001b[1;32m      3\u001b[0m   \u001b[0mprint\u001b[0m\u001b[0;34m(\u001b[0m\u001b[0mimages\u001b[0m\u001b[0;34m.\u001b[0m\u001b[0mshape\u001b[0m\u001b[0;34m)\u001b[0m\u001b[0;34m\u001b[0m\u001b[0;34m\u001b[0m\u001b[0m\n\u001b[0;32m----> 4\u001b[0;31m   \u001b[0moutputs\u001b[0m \u001b[0;34m=\u001b[0m \u001b[0mmodel\u001b[0m\u001b[0;34m(\u001b[0m\u001b[0mimages\u001b[0m\u001b[0;34m)\u001b[0m\u001b[0;34m\u001b[0m\u001b[0;34m\u001b[0m\u001b[0m\n\u001b[0m\u001b[1;32m      5\u001b[0m   \u001b[0;32mbreak\u001b[0m\u001b[0;34m\u001b[0m\u001b[0;34m\u001b[0m\u001b[0m\n",
            "\u001b[0;32m/usr/local/lib/python3.7/dist-packages/torch/nn/modules/module.py\u001b[0m in \u001b[0;36m_call_impl\u001b[0;34m(self, *input, **kwargs)\u001b[0m\n\u001b[1;32m   1049\u001b[0m         if not (self._backward_hooks or self._forward_hooks or self._forward_pre_hooks or _global_backward_hooks\n\u001b[1;32m   1050\u001b[0m                 or _global_forward_hooks or _global_forward_pre_hooks):\n\u001b[0;32m-> 1051\u001b[0;31m             \u001b[0;32mreturn\u001b[0m \u001b[0mforward_call\u001b[0m\u001b[0;34m(\u001b[0m\u001b[0;34m*\u001b[0m\u001b[0minput\u001b[0m\u001b[0;34m,\u001b[0m \u001b[0;34m**\u001b[0m\u001b[0mkwargs\u001b[0m\u001b[0;34m)\u001b[0m\u001b[0;34m\u001b[0m\u001b[0;34m\u001b[0m\u001b[0m\n\u001b[0m\u001b[1;32m   1052\u001b[0m         \u001b[0;31m# Do not call functions when jit is used\u001b[0m\u001b[0;34m\u001b[0m\u001b[0;34m\u001b[0m\u001b[0;34m\u001b[0m\u001b[0m\n\u001b[1;32m   1053\u001b[0m         \u001b[0mfull_backward_hooks\u001b[0m\u001b[0;34m,\u001b[0m \u001b[0mnon_full_backward_hooks\u001b[0m \u001b[0;34m=\u001b[0m \u001b[0;34m[\u001b[0m\u001b[0;34m]\u001b[0m\u001b[0;34m,\u001b[0m \u001b[0;34m[\u001b[0m\u001b[0;34m]\u001b[0m\u001b[0;34m\u001b[0m\u001b[0;34m\u001b[0m\u001b[0m\n",
            "\u001b[0;32m/usr/local/lib/python3.7/dist-packages/torch/nn/modules/linear.py\u001b[0m in \u001b[0;36mforward\u001b[0;34m(self, input)\u001b[0m\n\u001b[1;32m     94\u001b[0m \u001b[0;34m\u001b[0m\u001b[0m\n\u001b[1;32m     95\u001b[0m     \u001b[0;32mdef\u001b[0m \u001b[0mforward\u001b[0m\u001b[0;34m(\u001b[0m\u001b[0mself\u001b[0m\u001b[0;34m,\u001b[0m \u001b[0minput\u001b[0m\u001b[0;34m:\u001b[0m \u001b[0mTensor\u001b[0m\u001b[0;34m)\u001b[0m \u001b[0;34m->\u001b[0m \u001b[0mTensor\u001b[0m\u001b[0;34m:\u001b[0m\u001b[0;34m\u001b[0m\u001b[0;34m\u001b[0m\u001b[0m\n\u001b[0;32m---> 96\u001b[0;31m         \u001b[0;32mreturn\u001b[0m \u001b[0mF\u001b[0m\u001b[0;34m.\u001b[0m\u001b[0mlinear\u001b[0m\u001b[0;34m(\u001b[0m\u001b[0minput\u001b[0m\u001b[0;34m,\u001b[0m \u001b[0mself\u001b[0m\u001b[0;34m.\u001b[0m\u001b[0mweight\u001b[0m\u001b[0;34m,\u001b[0m \u001b[0mself\u001b[0m\u001b[0;34m.\u001b[0m\u001b[0mbias\u001b[0m\u001b[0;34m)\u001b[0m\u001b[0;34m\u001b[0m\u001b[0;34m\u001b[0m\u001b[0m\n\u001b[0m\u001b[1;32m     97\u001b[0m \u001b[0;34m\u001b[0m\u001b[0m\n\u001b[1;32m     98\u001b[0m     \u001b[0;32mdef\u001b[0m \u001b[0mextra_repr\u001b[0m\u001b[0;34m(\u001b[0m\u001b[0mself\u001b[0m\u001b[0;34m)\u001b[0m \u001b[0;34m->\u001b[0m \u001b[0mstr\u001b[0m\u001b[0;34m:\u001b[0m\u001b[0;34m\u001b[0m\u001b[0;34m\u001b[0m\u001b[0m\n",
            "\u001b[0;32m/usr/local/lib/python3.7/dist-packages/torch/nn/functional.py\u001b[0m in \u001b[0;36mlinear\u001b[0;34m(input, weight, bias)\u001b[0m\n\u001b[1;32m   1845\u001b[0m     \u001b[0;32mif\u001b[0m \u001b[0mhas_torch_function_variadic\u001b[0m\u001b[0;34m(\u001b[0m\u001b[0minput\u001b[0m\u001b[0;34m,\u001b[0m \u001b[0mweight\u001b[0m\u001b[0;34m)\u001b[0m\u001b[0;34m:\u001b[0m\u001b[0;34m\u001b[0m\u001b[0;34m\u001b[0m\u001b[0m\n\u001b[1;32m   1846\u001b[0m         \u001b[0;32mreturn\u001b[0m \u001b[0mhandle_torch_function\u001b[0m\u001b[0;34m(\u001b[0m\u001b[0mlinear\u001b[0m\u001b[0;34m,\u001b[0m \u001b[0;34m(\u001b[0m\u001b[0minput\u001b[0m\u001b[0;34m,\u001b[0m \u001b[0mweight\u001b[0m\u001b[0;34m)\u001b[0m\u001b[0;34m,\u001b[0m \u001b[0minput\u001b[0m\u001b[0;34m,\u001b[0m \u001b[0mweight\u001b[0m\u001b[0;34m,\u001b[0m \u001b[0mbias\u001b[0m\u001b[0;34m=\u001b[0m\u001b[0mbias\u001b[0m\u001b[0;34m)\u001b[0m\u001b[0;34m\u001b[0m\u001b[0;34m\u001b[0m\u001b[0m\n\u001b[0;32m-> 1847\u001b[0;31m     \u001b[0;32mreturn\u001b[0m \u001b[0mtorch\u001b[0m\u001b[0;34m.\u001b[0m\u001b[0m_C\u001b[0m\u001b[0;34m.\u001b[0m\u001b[0m_nn\u001b[0m\u001b[0;34m.\u001b[0m\u001b[0mlinear\u001b[0m\u001b[0;34m(\u001b[0m\u001b[0minput\u001b[0m\u001b[0;34m,\u001b[0m \u001b[0mweight\u001b[0m\u001b[0;34m,\u001b[0m \u001b[0mbias\u001b[0m\u001b[0;34m)\u001b[0m\u001b[0;34m\u001b[0m\u001b[0;34m\u001b[0m\u001b[0m\n\u001b[0m\u001b[1;32m   1848\u001b[0m \u001b[0;34m\u001b[0m\u001b[0m\n\u001b[1;32m   1849\u001b[0m \u001b[0;34m\u001b[0m\u001b[0m\n",
            "\u001b[0;31mRuntimeError\u001b[0m: mat1 and mat2 shapes cannot be multiplied (3584x28 and 784x10)"
          ]
        }
      ]
    },
    {
      "cell_type": "markdown",
      "metadata": {
        "id": "DUbT8uefEoo9"
      },
      "source": [
        "Here nn.Linear expects 2 dimensional input where it is (128,1,28,28) where the 128 represents the batch size, so in order to change the shape we can use the reshape method and make it vector of 784."
      ]
    },
    {
      "cell_type": "code",
      "metadata": {
        "colab": {
          "base_uri": "https://localhost:8080/"
        },
        "id": "Dc-if9SaEg5C",
        "outputId": "843285fe-c455-47be-ddd1-1869e4ecf0cc"
      },
      "source": [
        "print(images.shape)"
      ],
      "execution_count": 22,
      "outputs": [
        {
          "output_type": "stream",
          "text": [
            "torch.Size([128, 1, 28, 28])\n"
          ],
          "name": "stdout"
        }
      ]
    },
    {
      "cell_type": "code",
      "metadata": {
        "colab": {
          "base_uri": "https://localhost:8080/"
        },
        "id": "rJIIl7f9FV9L",
        "outputId": "e01b7418-3944-4d29-c52a-c2d815e95503"
      },
      "source": [
        "new_size = images.reshape(128,784)\n",
        "print(new_size.shape)"
      ],
      "execution_count": 24,
      "outputs": [
        {
          "output_type": "stream",
          "text": [
            "torch.Size([128, 784])\n"
          ],
          "name": "stdout"
        }
      ]
    },
    {
      "cell_type": "markdown",
      "metadata": {
        "id": "XKhOQEPyFoG_"
      },
      "source": [
        "To include add functionalities to our model, we need to define a custom model by extending the nn.module class from PyTorch."
      ]
    },
    {
      "cell_type": "code",
      "metadata": {
        "id": "1enyGNpoFdAy"
      },
      "source": [
        "class MnistModel(nn.Module):\n",
        "  def __init__(self):\n",
        "    super().__init__()\n",
        "    self.linear = nn.Linear(input_size, num_classes)\n",
        "\n",
        "  def forward(self, xb):\n",
        "    xb = xb.reshape(-1,784)\n",
        "    out = self.linear(xb)\n",
        "    return out\n",
        "\n",
        "model = MnistModel()      "
      ],
      "execution_count": 26,
      "outputs": []
    },
    {
      "cell_type": "code",
      "metadata": {
        "colab": {
          "base_uri": "https://localhost:8080/"
        },
        "id": "Uh5U1fcdIaVJ",
        "outputId": "ecb3f3c4-1981-472e-8c9e-e5069563142c"
      },
      "source": [
        "print(model.linear)"
      ],
      "execution_count": 27,
      "outputs": [
        {
          "output_type": "stream",
          "text": [
            "Linear(in_features=784, out_features=10, bias=True)\n"
          ],
          "name": "stdout"
        }
      ]
    },
    {
      "cell_type": "code",
      "metadata": {
        "colab": {
          "base_uri": "https://localhost:8080/"
        },
        "id": "LPBYxtizIoLC",
        "outputId": "5af27078-ce88-4323-9a45-8cfc05e8de36"
      },
      "source": [
        "print(list(model.parameters()))"
      ],
      "execution_count": 28,
      "outputs": [
        {
          "output_type": "stream",
          "text": [
            "[Parameter containing:\n",
            "tensor([[-0.0203, -0.0002,  0.0248,  ..., -0.0109,  0.0249, -0.0288],\n",
            "        [-0.0156,  0.0310, -0.0272,  ..., -0.0103,  0.0244,  0.0116],\n",
            "        [-0.0140,  0.0305, -0.0078,  ..., -0.0124,  0.0072,  0.0253],\n",
            "        ...,\n",
            "        [-0.0262, -0.0054, -0.0058,  ...,  0.0018,  0.0243, -0.0060],\n",
            "        [-0.0239,  0.0083, -0.0070,  ...,  0.0045, -0.0079,  0.0251],\n",
            "        [-0.0257,  0.0130,  0.0130,  ..., -0.0229, -0.0071, -0.0282]],\n",
            "       requires_grad=True), Parameter containing:\n",
            "tensor([ 0.0092,  0.0355,  0.0066,  0.0114, -0.0200,  0.0326, -0.0314, -0.0340,\n",
            "        -0.0307,  0.0138], requires_grad=True)]\n"
          ],
          "name": "stdout"
        }
      ]
    },
    {
      "cell_type": "code",
      "metadata": {
        "colab": {
          "base_uri": "https://localhost:8080/"
        },
        "id": "t2t3Ae0aIsgi",
        "outputId": "8e31b55f-c988-4f57-e913-45ca2910c274"
      },
      "source": [
        "for images, labels in train_loader:\n",
        "  print(images.shape)\n",
        "  output = model(images)\n",
        "  break\n",
        "\n",
        "print('output shape:', output.shape)\n",
        "print('sample output:', output[0:3].data)"
      ],
      "execution_count": 29,
      "outputs": [
        {
          "output_type": "stream",
          "text": [
            "torch.Size([128, 1, 28, 28])\n",
            "output shape: torch.Size([128, 10])\n",
            "sample output: tensor([[-0.2723,  0.2463,  0.2277,  0.0554, -0.0317,  0.1074, -0.2576, -0.3348,\n",
            "          0.0457, -0.0866],\n",
            "        [ 0.0027,  0.3001,  0.2712,  0.2328, -0.2376,  0.3067, -0.1587, -0.1196,\n",
            "          0.2610, -0.1219],\n",
            "        [-0.0518,  0.1064,  0.0187,  0.0072, -0.2142, -0.0803, -0.1306, -0.1977,\n",
            "         -0.0957, -0.1525]])\n"
          ],
          "name": "stdout"
        }
      ]
    },
    {
      "cell_type": "markdown",
      "metadata": {
        "id": "sF1xlTzVKYdg"
      },
      "source": [
        "Now from the sample output we can see the probablities defined by the model, now certain values in the output seem to be negative which aren't possible so we have to convert these values between 0 to 1 and the sum of all their values must be equal to 1. We can use Softmax function for this purpose."
      ]
    },
    {
      "cell_type": "code",
      "metadata": {
        "id": "zpDbGQDqJ8A7"
      },
      "source": [
        "import torch.nn.functional as F"
      ],
      "execution_count": 30,
      "outputs": []
    },
    {
      "cell_type": "code",
      "metadata": {
        "colab": {
          "base_uri": "https://localhost:8080/"
        },
        "id": "EQ7AIhdgLSIL",
        "outputId": "84c3c3bd-674b-46d9-9f36-2513f87483b9"
      },
      "source": [
        "probs = F.softmax(output, dim=1)\n",
        "print('Sample probabilites:', probs[0:2].data)\n",
        "print('Sum:', torch.sum(probs[0]).item())"
      ],
      "execution_count": 31,
      "outputs": [
        {
          "output_type": "stream",
          "text": [
            "Sample probabilites: tensor([[0.0770, 0.1294, 0.1270, 0.1069, 0.0980, 0.1126, 0.0782, 0.0724, 0.1059,\n",
            "         0.0927],\n",
            "        [0.0912, 0.1228, 0.1193, 0.1148, 0.0717, 0.1236, 0.0776, 0.0807, 0.1180,\n",
            "         0.0805]])\n",
            "Sum: 0.9999999403953552\n"
          ],
          "name": "stdout"
        }
      ]
    },
    {
      "cell_type": "code",
      "metadata": {
        "colab": {
          "base_uri": "https://localhost:8080/"
        },
        "id": "44xe5q5GLtSS",
        "outputId": "c5f28052-e6da-4e4f-823f-d81995f76e35"
      },
      "source": [
        "max_probs, preds = torch.max(probs, dim=1)\n",
        "print(preds)\n",
        "print(max_probs)"
      ],
      "execution_count": 33,
      "outputs": [
        {
          "output_type": "stream",
          "text": [
            "tensor([1, 5, 1, 5, 2, 1, 1, 0, 1, 1, 2, 2, 1, 6, 2, 1, 1, 1, 0, 0, 5, 2, 6, 1,\n",
            "        1, 1, 2, 1, 5, 2, 1, 2, 1, 2, 1, 1, 0, 1, 1, 1, 1, 5, 1, 1, 2, 1, 2, 2,\n",
            "        1, 1, 1, 2, 1, 1, 1, 0, 0, 2, 1, 1, 5, 3, 1, 2, 2, 1, 1, 2, 1, 0, 1, 2,\n",
            "        1, 1, 1, 1, 0, 1, 1, 3, 1, 1, 1, 1, 2, 1, 1, 0, 6, 1, 1, 3, 1, 1, 1, 1,\n",
            "        2, 1, 0, 1, 2, 1, 2, 1, 1, 2, 1, 2, 6, 1, 2, 1, 1, 1, 1, 1, 1, 1, 1, 1,\n",
            "        5, 2, 1, 1, 2, 1, 2, 1])\n",
            "tensor([0.1294, 0.1236, 0.1198, 0.1196, 0.1377, 0.1455, 0.1334, 0.1300, 0.1541,\n",
            "        0.1293, 0.1329, 0.1251, 0.1469, 0.1357, 0.1335, 0.1386, 0.1456, 0.1335,\n",
            "        0.1219, 0.1234, 0.1409, 0.1429, 0.1184, 0.1518, 0.1357, 0.1361, 0.1261,\n",
            "        0.1404, 0.1403, 0.1329, 0.1133, 0.1355, 0.1472, 0.1513, 0.1549, 0.1266,\n",
            "        0.1355, 0.1395, 0.1205, 0.1379, 0.1488, 0.1257, 0.1197, 0.1656, 0.1385,\n",
            "        0.1323, 0.1413, 0.1391, 0.1426, 0.1501, 0.1242, 0.1651, 0.1442, 0.1762,\n",
            "        0.1207, 0.1230, 0.1231, 0.1662, 0.1363, 0.1872, 0.1356, 0.1250, 0.1304,\n",
            "        0.1367, 0.1470, 0.1462, 0.1308, 0.1377, 0.1508, 0.1353, 0.1455, 0.1396,\n",
            "        0.1335, 0.1526, 0.1481, 0.1317, 0.1237, 0.1468, 0.1286, 0.1227, 0.1387,\n",
            "        0.1461, 0.1480, 0.1255, 0.1316, 0.1319, 0.1312, 0.1256, 0.1257, 0.1210,\n",
            "        0.1766, 0.1209, 0.1407, 0.1298, 0.1343, 0.1386, 0.1359, 0.1410, 0.1164,\n",
            "        0.1609, 0.1256, 0.1373, 0.1414, 0.1346, 0.1494, 0.1275, 0.1297, 0.1516,\n",
            "        0.1200, 0.1506, 0.1153, 0.1390, 0.1245, 0.1361, 0.1347, 0.1616, 0.1385,\n",
            "        0.1456, 0.1258, 0.1278, 0.1364, 0.1507, 0.1176, 0.1328, 0.1254, 0.1224,\n",
            "        0.1333, 0.1418], grad_fn=<MaxBackward0>)\n"
          ],
          "name": "stdout"
        }
      ]
    },
    {
      "cell_type": "code",
      "metadata": {
        "colab": {
          "base_uri": "https://localhost:8080/"
        },
        "id": "EMKv_fi2MjpT",
        "outputId": "bae77662-4199-4e20-fa46-6f476e8e8e1e"
      },
      "source": [
        "print(labels)"
      ],
      "execution_count": 34,
      "outputs": [
        {
          "output_type": "stream",
          "text": [
            "tensor([3, 1, 2, 6, 2, 8, 1, 3, 1, 0, 9, 0, 5, 7, 6, 8, 4, 1, 5, 0, 8, 6, 9, 8,\n",
            "        3, 7, 8, 2, 2, 9, 5, 9, 2, 3, 8, 7, 3, 1, 8, 7, 1, 1, 8, 8, 3, 7, 6, 2,\n",
            "        7, 5, 9, 2, 9, 0, 7, 4, 4, 2, 3, 0, 9, 2, 6, 2, 0, 9, 3, 7, 3, 4, 6, 6,\n",
            "        8, 8, 7, 9, 6, 9, 8, 4, 9, 4, 7, 0, 2, 1, 1, 0, 9, 4, 0, 7, 1, 0, 7, 8,\n",
            "        6, 2, 0, 2, 7, 0, 3, 5, 8, 5, 3, 6, 7, 2, 3, 9, 7, 1, 1, 9, 1, 0, 9, 6,\n",
            "        1, 6, 7, 5, 8, 7, 3, 0])\n"
          ],
          "name": "stdout"
        }
      ]
    },
    {
      "cell_type": "code",
      "metadata": {
        "id": "8YJjgiZyNBA_"
      },
      "source": [
        "def accuracy(output, labels):\n",
        "  _,preds = torch.max(output, dim=1)\n",
        "  return torch.tensor(torch.sum(preds == labels).item()/len(preds))"
      ],
      "execution_count": 35,
      "outputs": []
    },
    {
      "cell_type": "code",
      "metadata": {
        "colab": {
          "base_uri": "https://localhost:8080/"
        },
        "id": "UkxpI51bMv5b",
        "outputId": "a7b858d6-b75c-4c0e-deb0-f612d136ef53"
      },
      "source": [
        "accuracy(output, labels)"
      ],
      "execution_count": 36,
      "outputs": [
        {
          "output_type": "execute_result",
          "data": {
            "text/plain": [
              "tensor(0.1562)"
            ]
          },
          "metadata": {
            "tags": []
          },
          "execution_count": 36
        }
      ]
    },
    {
      "cell_type": "markdown",
      "metadata": {
        "id": "-neeXtWaOz1w"
      },
      "source": [
        "Here now we use cross entropy as loss function as the evaluation metric for this model, cross entropy does softmax internally so we just need to provide the tensor value output, the output which is resulted by cross entropy function is multiplied with -1, which gives a large positive result."
      ]
    },
    {
      "cell_type": "code",
      "metadata": {
        "colab": {
          "base_uri": "https://localhost:8080/"
        },
        "id": "aHscWdZ_Nlfc",
        "outputId": "67e669df-0bf3-44f0-d32b-8c4f4ceb7342"
      },
      "source": [
        "loss_fn = F.cross_entropy\n",
        "\n",
        "loss = loss_fn(output, labels)\n",
        "print(loss)"
      ],
      "execution_count": 37,
      "outputs": [
        {
          "output_type": "stream",
          "text": [
            "tensor(2.3198, grad_fn=<NllLossBackward>)\n"
          ],
          "name": "stdout"
        }
      ]
    },
    {
      "cell_type": "markdown",
      "metadata": {
        "id": "5geGkjTCQMjn"
      },
      "source": [
        "Now we begin training the model, this time also along with validation set, same steps as in that of the linear regression."
      ]
    },
    {
      "cell_type": "code",
      "metadata": {
        "id": "ILryjWUIP4lu"
      },
      "source": [
        "def fit(epochs, lr, model, train_loader, valid_loader, opt_func=torch.optim.SGD):\n",
        "  optimizer = opt_func(model.parameters(), lr)\n",
        "  history = [] \n",
        "\n",
        "  for epoch in range(epochs):\n",
        "    for batch in train_loader:\n",
        "      loss = model.training_step(batch)\n",
        "      loss.backward()\n",
        "      optimizer.step()\n",
        "      optimizer.zero_grad()\n",
        "\n",
        "    result = evaluate(model,valid_loader)\n",
        "    model.epoch_end(epoch, result)\n",
        "    history.append(result)\n",
        "\n",
        "  return history  "
      ],
      "execution_count": 52,
      "outputs": []
    },
    {
      "cell_type": "code",
      "metadata": {
        "id": "M8aEfleKRuoz"
      },
      "source": [
        "def evaluate(model, valid_loader):\n",
        "  output = [model.validation_step(batch) for batch in valid_loader]\n",
        "  return model.validation_epoch_end(output)"
      ],
      "execution_count": 40,
      "outputs": []
    },
    {
      "cell_type": "markdown",
      "metadata": {
        "id": "qwWdYTbGTvrU"
      },
      "source": [
        "Now that we have defined our fit function, we have to complete our MnistModel class."
      ]
    },
    {
      "cell_type": "code",
      "metadata": {
        "id": "3DH6vLMuSJJb"
      },
      "source": [
        "class MnistModel(nn.Module):\n",
        "  def __init__(self):\n",
        "    super().__init__()\n",
        "    self.linear = nn.Linear(input_size, num_classes)\n",
        "\n",
        "  def forward(self,xb):\n",
        "    xb = xb.reshape(-1,784)\n",
        "    out = self.linear(xb) \n",
        "    return out\n",
        "\n",
        "  def training_step(self, batch):\n",
        "    images,labels = batch\n",
        "    out = self(images)  #find the predictions\n",
        "    loss = F.cross_entropy(out, labels) #calculate the loss\n",
        "    return loss\n",
        "\n",
        "  def validation_step(self, batch):\n",
        "    images, labels = batch\n",
        "    out = self(images) #find the predictions\n",
        "    loss = F.cross_entropy(out, labels)  #calculate the loss\n",
        "    acc = accuracy(out, labels)  #calculate the accuracy\n",
        "    return {'val_loss' : loss, 'val_acc': acc}\n",
        "\n",
        "  def validation_epoch_end(self, output):\n",
        "    batch_losses = [x['val_loss'] for x in output]\n",
        "    epoch_loss = torch.stack(batch_losses).mean()\n",
        "    batch_accs = [x['val_acc'] for x in output]\n",
        "    epoch_acc = torch.stack(batch_accs).mean()\n",
        "    return {'val_loss': epoch_loss.item(), 'val_acc': epoch_acc.item()}\n",
        "\n",
        "  def epoch_end(self, epoch, result):\n",
        "    print(\"epoch[{}], val_loss: {:.3f}, val_acc: {:.3f}\".format(epoch, result['val_loss'], result['val_acc']))\n",
        "\n",
        "model = MnistModel()"
      ],
      "execution_count": 53,
      "outputs": []
    },
    {
      "cell_type": "markdown",
      "metadata": {
        "id": "9noSCqa6XdBP"
      },
      "source": [
        "First let us look at the performance of the model for randomaly initialized weight and bias on validation set and their metrics."
      ]
    },
    {
      "cell_type": "code",
      "metadata": {
        "colab": {
          "base_uri": "https://localhost:8080/"
        },
        "id": "Mra7pvZdXXkF",
        "outputId": "0be3968c-b5fa-4a91-db6a-315346285f66"
      },
      "source": [
        "result1 = evaluate(model, valid_loader)\n",
        "print(result1)"
      ],
      "execution_count": 46,
      "outputs": [
        {
          "output_type": "stream",
          "text": [
            "{'val_loss': 2.2903006076812744, 'val_acc': 0.1481408178806305}\n"
          ],
          "name": "stdout"
        }
      ]
    },
    {
      "cell_type": "code",
      "metadata": {
        "colab": {
          "base_uri": "https://localhost:8080/"
        },
        "id": "MrTt3Cy0X18t",
        "outputId": "4fcc57a6-b3f9-4824-8694-62c7717b000b"
      },
      "source": [
        "history1 = fit(5, 0.001, model, train_loader, valid_loader)"
      ],
      "execution_count": 54,
      "outputs": [
        {
          "output_type": "stream",
          "text": [
            "epoch[0], val_loss: 1.967, val_acc: 0.569\n",
            "epoch[1], val_loss: 1.694, val_acc: 0.719\n",
            "epoch[2], val_loss: 1.490, val_acc: 0.762\n",
            "epoch[3], val_loss: 1.336, val_acc: 0.784\n",
            "epoch[4], val_loss: 1.217, val_acc: 0.796\n"
          ],
          "name": "stdout"
        }
      ]
    },
    {
      "cell_type": "code",
      "metadata": {
        "colab": {
          "base_uri": "https://localhost:8080/"
        },
        "id": "lwcojL8hYxy9",
        "outputId": "7184bf45-0184-42f6-ec94-c9138ea22986"
      },
      "source": [
        "history2 = fit(5,0.001, model, train_loader, valid_loader)"
      ],
      "execution_count": 55,
      "outputs": [
        {
          "output_type": "stream",
          "text": [
            "epoch[0], val_loss: 1.124, val_acc: 0.805\n",
            "epoch[1], val_loss: 1.050, val_acc: 0.812\n",
            "epoch[2], val_loss: 0.989, val_acc: 0.818\n",
            "epoch[3], val_loss: 0.938, val_acc: 0.822\n",
            "epoch[4], val_loss: 0.895, val_acc: 0.826\n"
          ],
          "name": "stdout"
        }
      ]
    },
    {
      "cell_type": "code",
      "metadata": {
        "colab": {
          "base_uri": "https://localhost:8080/"
        },
        "id": "AFV16wXqbvAN",
        "outputId": "e048a111-b584-4bb0-ac6a-1b9c02c83c5a"
      },
      "source": [
        "history3 = fit(5,0.001, model, train_loader, valid_loader)"
      ],
      "execution_count": 56,
      "outputs": [
        {
          "output_type": "stream",
          "text": [
            "epoch[0], val_loss: 0.859, val_acc: 0.830\n",
            "epoch[1], val_loss: 0.827, val_acc: 0.834\n",
            "epoch[2], val_loss: 0.799, val_acc: 0.838\n",
            "epoch[3], val_loss: 0.775, val_acc: 0.840\n",
            "epoch[4], val_loss: 0.753, val_acc: 0.842\n"
          ],
          "name": "stdout"
        }
      ]
    },
    {
      "cell_type": "code",
      "metadata": {
        "colab": {
          "base_uri": "https://localhost:8080/"
        },
        "id": "2SBx2B67fNet",
        "outputId": "ab1d09d8-1a85-437b-e48c-7ca88a94ebfc"
      },
      "source": [
        "history4 = fit(5,0.001, model, train_loader, valid_loader)"
      ],
      "execution_count": 57,
      "outputs": [
        {
          "output_type": "stream",
          "text": [
            "epoch[0], val_loss: 0.734, val_acc: 0.844\n",
            "epoch[1], val_loss: 0.716, val_acc: 0.846\n",
            "epoch[2], val_loss: 0.700, val_acc: 0.847\n",
            "epoch[3], val_loss: 0.685, val_acc: 0.848\n",
            "epoch[4], val_loss: 0.672, val_acc: 0.850\n"
          ],
          "name": "stdout"
        }
      ]
    },
    {
      "cell_type": "code",
      "metadata": {
        "colab": {
          "base_uri": "https://localhost:8080/"
        },
        "id": "1tc-ORTbfur8",
        "outputId": "2f35cec7-b9a9-4f0b-ad1a-142311304b95"
      },
      "source": [
        "history5 = fit(5,0.001, model, train_loader, valid_loader)"
      ],
      "execution_count": 58,
      "outputs": [
        {
          "output_type": "stream",
          "text": [
            "epoch[0], val_loss: 0.660, val_acc: 0.851\n",
            "epoch[1], val_loss: 0.648, val_acc: 0.853\n",
            "epoch[2], val_loss: 0.638, val_acc: 0.854\n",
            "epoch[3], val_loss: 0.628, val_acc: 0.855\n",
            "epoch[4], val_loss: 0.619, val_acc: 0.856\n"
          ],
          "name": "stdout"
        }
      ]
    },
    {
      "cell_type": "markdown",
      "metadata": {
        "id": "CcqYJcilgJLv"
      },
      "source": [
        "Now that we have learnt significantly around 25 epochs, the accuracy and loss could become better by tuning the values of epochs and learning rate, this is known as Hyperparameter Tuning. We can now visualize the graph of accuracy by plotting using matplotlib."
      ]
    },
    {
      "cell_type": "code",
      "metadata": {
        "colab": {
          "base_uri": "https://localhost:8080/",
          "height": 296
        },
        "id": "Wxh1ZdAtf7bl",
        "outputId": "17196d01-4b97-4fbb-f2de-0ee908ea2054"
      },
      "source": [
        "history = [result1] + history1 + history2 + history3 + history4 + history5\n",
        "accuracies = [result['val_acc'] for result in history]\n",
        "plt.plot(accuracies, '-x')\n",
        "plt.xlabel('epoch')\n",
        "plt.ylabel('accuracy')"
      ],
      "execution_count": 59,
      "outputs": [
        {
          "output_type": "execute_result",
          "data": {
            "text/plain": [
              "Text(0, 0.5, 'accuracy')"
            ]
          },
          "metadata": {
            "tags": []
          },
          "execution_count": 59
        },
        {
          "output_type": "display_data",
          "data": {
            "image/png": "[encoded data removed]",
            "text/plain": [
              "<Figure size 432x288 with 1 Axes>"
            ]
          },
          "metadata": {
            "tags": [],
            "needs_background": "light"
          }
        }
      ]
    },
    {
      "cell_type": "markdown",
      "metadata": {
        "id": "mQmKKA-whXyP"
      },
      "source": [
        "Now let's try out with test images, and check how well our model works with test set."
      ]
    },
    {
      "cell_type": "code",
      "metadata": {
        "id": "96aczGHIhIUk"
      },
      "source": [
        "test_dataset = MNIST(root='data/', train=False, transform=transforms.ToTensor())"
      ],
      "execution_count": 60,
      "outputs": []
    },
    {
      "cell_type": "code",
      "metadata": {
        "colab": {
          "base_uri": "https://localhost:8080/",
          "height": 282
        },
        "id": "hnMwZhBniD18",
        "outputId": "3f232ed7-0d6c-4cb3-ae41-4ab6b8086128"
      },
      "source": [
        "image, label = test_dataset[0]\n",
        "plt.imshow(image[0], cmap='gray')\n",
        "print('Label:', label)"
      ],
      "execution_count": 61,
      "outputs": [
        {
          "output_type": "stream",
          "text": [
            "Label: 7\n"
          ],
          "name": "stdout"
        },
        {
          "output_type": "display_data",
          "data": {
            "image/png": "[encoded data removed]",
            "text/plain": [
              "<Figure size 432x288 with 1 Axes>"
            ]
          },
          "metadata": {
            "tags": [],
            "needs_background": "light"
          }
        }
      ]
    },
    {
      "cell_type": "markdown",
      "metadata": {
        "id": "id0AoJN-iY6O"
      },
      "source": [
        "Let's create a function of predicting the image from test set let's call the function predict_image. In the function we add a method called unsqueeze, the use of this method is to add a dimension at the beginning of the tensor, which the model views as a batch containing a single image."
      ]
    },
    {
      "cell_type": "code",
      "metadata": {
        "id": "zzY7syIWiTvs"
      },
      "source": [
        "def predict_image(image, model):\n",
        "  xb = image.unsqueeze(0)\n",
        "  yb = model(xb)\n",
        "  _, preds = torch.max(yb, dim=1)\n",
        "  return preds[0].item()"
      ],
      "execution_count": 62,
      "outputs": []
    },
    {
      "cell_type": "code",
      "metadata": {
        "colab": {
          "base_uri": "https://localhost:8080/"
        },
        "id": "EjEUhpSOjQ-G",
        "outputId": "a02f02ce-acf4-4b97-cba5-6f3a670f6b4d"
      },
      "source": [
        "predict_image(image, model)"
      ],
      "execution_count": 63,
      "outputs": [
        {
          "output_type": "execute_result",
          "data": {
            "text/plain": [
              "7"
            ]
          },
          "metadata": {
            "tags": []
          },
          "execution_count": 63
        }
      ]
    },
    {
      "cell_type": "code",
      "metadata": {
        "colab": {
          "base_uri": "https://localhost:8080/",
          "height": 282
        },
        "id": "1tag6GN3jXkd",
        "outputId": "c49c336f-c62f-4125-c879-269034e751cb"
      },
      "source": [
        "image, label = test_dataset[10]\n",
        "plt.imshow(image[0], cmap='gray')\n",
        "print('Label:', label, 'Predicted:', predict_image(image,model))"
      ],
      "execution_count": 67,
      "outputs": [
        {
          "output_type": "stream",
          "text": [
            "Label: 0 Predicted: 0\n"
          ],
          "name": "stdout"
        },
        {
          "output_type": "display_data",
          "data": {
            "image/png": "[encoded data removed]",
            "text/plain": [
              "<Figure size 432x288 with 1 Axes>"
            ]
          },
          "metadata": {
            "tags": [],
            "needs_background": "light"
          }
        }
      ]
    },
    {
      "cell_type": "code",
      "metadata": {
        "colab": {
          "base_uri": "https://localhost:8080/",
          "height": 282
        },
        "id": "rnF0M8-_kCxj",
        "outputId": "ab5e3fd0-5168-4d1e-f913-ed4b72ed06cd"
      },
      "source": [
        "image, label = test_dataset[1000]\n",
        "plt.imshow(image[0], cmap='gray')\n",
        "print('Label:', label, 'Predicted:', predict_image(image,model))"
      ],
      "execution_count": 68,
      "outputs": [
        {
          "output_type": "stream",
          "text": [
            "Label: 9 Predicted: 7\n"
          ],
          "name": "stdout"
        },
        {
          "output_type": "display_data",
          "data": {
            "image/png": "[encoded data removed]",
            "text/plain": [
              "<Figure size 432x288 with 1 Axes>"
            ]
          },
          "metadata": {
            "tags": [],
            "needs_background": "light"
          }
        }
      ]
    },
    {
      "cell_type": "code",
      "metadata": {
        "colab": {
          "base_uri": "https://localhost:8080/",
          "height": 282
        },
        "id": "p7jQwveHkiwm",
        "outputId": "a1fc0985-0392-4602-9b90-440d7c5f50e3"
      },
      "source": [
        "image, label = test_dataset[20]\n",
        "plt.imshow(image[0], cmap='gray')\n",
        "print('Label:', label, 'Predicted:', predict_image(image,model))"
      ],
      "execution_count": 69,
      "outputs": [
        {
          "output_type": "stream",
          "text": [
            "Label: 9 Predicted: 9\n"
          ],
          "name": "stdout"
        },
        {
          "output_type": "display_data",
          "data": {
            "image/png": "[encoded data removed]",
            "text/plain": [
              "<Figure size 432x288 with 1 Axes>"
            ]
          },
          "metadata": {
            "tags": [],
            "needs_background": "light"
          }
        }
      ]
    }
  ]
}