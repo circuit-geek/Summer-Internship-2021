{
  "nbformat": 4,
  "nbformat_minor": 0,
  "metadata": {
    "colab": {
      "name": "Linear_Regression_Pytorch.ipynb",
      "provenance": [],
      "authorship_tag": "ABX9TyNMeWLc4i/vh/1dwtMuW+jG",
      "include_colab_link": true
    },
    "kernelspec": {
      "name": "python3",
      "display_name": "Python 3"
    },
    "language_info": {
      "name": "python"
    }
  },
  "cells": [
    {
      "cell_type": "markdown",
      "metadata": {
        "id": "view-in-github",
        "colab_type": "text"
      },
      "source": [
        "<a href=\"https://colab.research.google.com/github/circuit-geek/Summer-Internship-2021/blob/main/Linear_Regression_Pytorch.ipynb\" target=\"_parent\"><img src=\"https://colab.research.google.com/assets/colab-badge.svg\" alt=\"Open In Colab\"/></a>"
      ]
    },
    {
      "cell_type": "markdown",
      "metadata": {
        "id": "rhKuBFNVHRWz"
      },
      "source": [
        "**Gradient Descent and Linear Regression**\n",
        "\n",
        "In this we will try to estimate the yield of Apple and oranges for the given parameters such as temperature, rainfall and humidity. The input values and the targets yield are given as numpy array."
      ]
    },
    {
      "cell_type": "code",
      "metadata": {
        "id": "mR35K46UIs_7"
      },
      "source": [
        "import torch"
      ],
      "execution_count": 1,
      "outputs": []
    },
    {
      "cell_type": "code",
      "metadata": {
        "id": "pg47rjoPHVia"
      },
      "source": [
        "input = torch.tensor([[73., 67., 43.],\n",
        "                  [91., 88., 64.],\n",
        "                  [87., 134., 58.],\n",
        "                  [102., 43., 37.],\n",
        "                  [69., 96., 70.]])"
      ],
      "execution_count": 11,
      "outputs": []
    },
    {
      "cell_type": "code",
      "metadata": {
        "id": "HrDCUp2pJ6sx"
      },
      "source": [
        "target = torch.tensor([[56.,70.],\n",
        "                   [81.,101.],\n",
        "                   [119.,133.],\n",
        "                   [22.,37.],\n",
        "                   [103.,119.]])"
      ],
      "execution_count": 12,
      "outputs": []
    },
    {
      "cell_type": "code",
      "metadata": {
        "colab": {
          "base_uri": "https://localhost:8080/"
        },
        "id": "E8d2XZLtR9WU",
        "outputId": "14eaf82e-dbc0-46f2-c6dc-493a5907404a"
      },
      "source": [
        "print(input.dtype, target.dtype)"
      ],
      "execution_count": 13,
      "outputs": [
        {
          "output_type": "stream",
          "text": [
            "torch.float32 torch.float32\n"
          ],
          "name": "stdout"
        }
      ]
    },
    {
      "cell_type": "markdown",
      "metadata": {
        "id": "5KaH98QULAOn"
      },
      "source": [
        "Now that we have got our inputs and target values, we can train the model using linear regression, not just for tensorflow even for Pytorch the inputs could be as CSV files having the inputs and Targets."
      ]
    },
    {
      "cell_type": "code",
      "metadata": {
        "colab": {
          "base_uri": "https://localhost:8080/"
        },
        "id": "5_AGfkWiMVB1",
        "outputId": "efee6f9e-637a-41a3-fded-4e35713164b1"
      },
      "source": [
        "#getting the weights and bias\n",
        "\n",
        "w = torch.randn(2, 3 , requires_grad= True)\n",
        "b = torch.randn(2 , requires_grad= True)\n",
        "print(w,b)"
      ],
      "execution_count": 14,
      "outputs": [
        {
          "output_type": "stream",
          "text": [
            "tensor([[ 1.5018, -0.5976, -0.1544],\n",
            "        [ 0.2167, -0.2155,  0.7817]], requires_grad=True) tensor([-0.1452,  0.5484], requires_grad=True)\n"
          ],
          "name": "stdout"
        }
      ]
    },
    {
      "cell_type": "code",
      "metadata": {
        "id": "oLRWJteIMp5P"
      },
      "source": [
        "def model(x):\n",
        "  return x @ w.t() + b"
      ],
      "execution_count": 15,
      "outputs": []
    },
    {
      "cell_type": "markdown",
      "metadata": {
        "id": "XF3wmmztQLPR"
      },
      "source": [
        "We have defined a function called model which just computes the matrix values where \"@\" represents matrix multiplication and .t() function converts the matrix to its transpose. The return value gives the prediction when input variable is given as the function call to the model function."
      ]
    },
    {
      "cell_type": "code",
      "metadata": {
        "colab": {
          "base_uri": "https://localhost:8080/"
        },
        "id": "Q4TZLWtGQ0LY",
        "outputId": "274af08c-ab4e-409e-e6d6-9c3b97e4bc99"
      },
      "source": [
        "preds = model(input)\n",
        "print(preds)"
      ],
      "execution_count": 16,
      "outputs": [
        {
          "output_type": "stream",
          "text": [
            "tensor([[ 62.8066,  35.5412],\n",
            "        [ 74.0468,  51.3314],\n",
            "        [ 41.4739,  35.8624],\n",
            "        [121.6289,  42.3073],\n",
            "        [ 35.2996,  49.5300]], grad_fn=<AddBackward0>)\n"
          ],
          "name": "stdout"
        }
      ]
    },
    {
      "cell_type": "code",
      "metadata": {
        "colab": {
          "base_uri": "https://localhost:8080/"
        },
        "id": "SUQslsNnREXQ",
        "outputId": "79e30cd9-5ed2-4e7f-eabe-81603a0bc6cb"
      },
      "source": [
        "print(target)"
      ],
      "execution_count": 17,
      "outputs": [
        {
          "output_type": "stream",
          "text": [
            "tensor([[ 56.,  70.],\n",
            "        [ 81., 101.],\n",
            "        [119., 133.],\n",
            "        [ 22.,  37.],\n",
            "        [103., 119.]])\n"
          ],
          "name": "stdout"
        }
      ]
    },
    {
      "cell_type": "markdown",
      "metadata": {
        "id": "XpY2W02bSZ77"
      },
      "source": [
        "So from the predicted values and target values we understand the model is not performing very well as there is a significant difference between the two. So to understand how well they are performing we understand their loss function."
      ]
    },
    {
      "cell_type": "markdown",
      "metadata": {
        "id": "BmrpRveTTM0O"
      },
      "source": [
        "**Loss Function**\n",
        "\n",
        "\n",
        "1.   Calculate the difference between the two matrices(preds and targets)\n",
        "2.  Square all elements of the difference matrix to remove -ve values.\n",
        "3.   Calculate the average of the resultant matrix.\n",
        "\n",
        "This is know as Mean Square Error(MSE)."
      ]
    },
    {
      "cell_type": "code",
      "metadata": {
        "id": "dQtiw8M1T5Pe"
      },
      "source": [
        "def mse(t1, t2):\n",
        "  diff = t1-t2\n",
        "  return torch.sum(diff*diff)/ diff.numel()"
      ],
      "execution_count": 18,
      "outputs": []
    },
    {
      "cell_type": "code",
      "metadata": {
        "colab": {
          "base_uri": "https://localhost:8080/"
        },
        "id": "AlY4uoWMTpbw",
        "outputId": "85da53a2-6cde-4eb1-96b9-b57a6e12b185"
      },
      "source": [
        "loss = mse(preds, target)\n",
        "print(loss)"
      ],
      "execution_count": 19,
      "outputs": [
        {
          "output_type": "stream",
          "text": [
            "tensor(3855.8562, grad_fn=<DivBackward0>)\n"
          ],
          "name": "stdout"
        }
      ]
    },
    {
      "cell_type": "code",
      "metadata": {
        "id": "FM3OhoaFUbaH"
      },
      "source": [
        "loss.backward() #calculating the gradients"
      ],
      "execution_count": 20,
      "outputs": []
    },
    {
      "cell_type": "code",
      "metadata": {
        "colab": {
          "base_uri": "https://localhost:8080/"
        },
        "id": "87feSGnLU6vv",
        "outputId": "3b6defa9-128b-4ece-9ad3-02cfb4b7c1d2"
      },
      "source": [
        "print(w.grad)"
      ],
      "execution_count": 21,
      "outputs": [
        {
          "output_type": "stream",
          "text": [
            "tensor([[ -277.9632, -2551.9072, -1140.3195],\n",
            "        [-3947.6785, -5227.3833, -2992.2056]])\n"
          ],
          "name": "stdout"
        }
      ]
    },
    {
      "cell_type": "code",
      "metadata": {
        "colab": {
          "base_uri": "https://localhost:8080/"
        },
        "id": "pN5TSz3YU_hP",
        "outputId": "645eff96-3e80-41c6-f0dd-3d33ccef6444"
      },
      "source": [
        "print(b.grad)"
      ],
      "execution_count": 22,
      "outputs": [
        {
          "output_type": "stream",
          "text": [
            "tensor([ -9.1489, -49.0855])\n"
          ],
          "name": "stdout"
        }
      ]
    },
    {
      "cell_type": "markdown",
      "metadata": {
        "id": "hxZjpwmNWOAK"
      },
      "source": [
        "When gradient values is positive then on increasing the weights the loss will increase and on descreasing the weights the loss will decrease, but when gradient values are negative on increasing the weight the loss will decrease and increase when the weight is decreased."
      ]
    },
    {
      "cell_type": "code",
      "metadata": {
        "id": "D9ezhKM8Wvx8"
      },
      "source": [
        "with torch.no_grad():\n",
        "  w -= w.grad * 1e-5\n",
        "  b -= b.grad * 1e-5"
      ],
      "execution_count": 24,
      "outputs": []
    },
    {
      "cell_type": "code",
      "metadata": {
        "colab": {
          "base_uri": "https://localhost:8080/"
        },
        "id": "ioXoAuP6XVpB",
        "outputId": "b8984cc1-561b-4411-9769-4c9a7407c75b"
      },
      "source": [
        "print(w,b)"
      ],
      "execution_count": 25,
      "outputs": [
        {
          "output_type": "stream",
          "text": [
            "tensor([[ 1.5046, -0.5721, -0.1430],\n",
            "        [ 0.2562, -0.1632,  0.8116]], requires_grad=True) tensor([-0.1451,  0.5489], requires_grad=True)\n"
          ],
          "name": "stdout"
        }
      ]
    },
    {
      "cell_type": "code",
      "metadata": {
        "colab": {
          "base_uri": "https://localhost:8080/"
        },
        "id": "1IAf8IJZXbym",
        "outputId": "3b629f12-0b50-45a9-9040-4c5c3d43e613"
      },
      "source": [
        "new_preds = model(input)\n",
        "loss = mse(new_preds, target)\n",
        "print(loss)"
      ],
      "execution_count": 26,
      "outputs": [
        {
          "output_type": "stream",
          "text": [
            "tensor(3309.3523, grad_fn=<DivBackward0>)\n"
          ],
          "name": "stdout"
        }
      ]
    },
    {
      "cell_type": "code",
      "metadata": {
        "colab": {
          "base_uri": "https://localhost:8080/"
        },
        "id": "ZpLN7P4jXqEN",
        "outputId": "2b9ab718-0855-42a1-ae3b-4f8c21ce7a75"
      },
      "source": [
        " w.grad.zero_()\n",
        " b.grad.zero_()\n",
        " print(w.grad, b.grad)"
      ],
      "execution_count": 28,
      "outputs": [
        {
          "output_type": "stream",
          "text": [
            "tensor([[0., 0., 0.],\n",
            "        [0., 0., 0.]]) tensor([0., 0.])\n"
          ],
          "name": "stdout"
        }
      ]
    },
    {
      "cell_type": "markdown",
      "metadata": {
        "id": "lILbYRLwYZ4s"
      },
      "source": [
        "After finishing with gradient calculations it is important to make the gradients zero as next time when call the backward() function the gradients keep accumulating."
      ]
    },
    {
      "cell_type": "code",
      "metadata": {
        "id": "ZQI3aLLOaez7"
      },
      "source": [
        "#training the model for 100 epochs to even reduce the loss\n",
        "\n",
        "for i in range(100):\n",
        "  preds = model(input)\n",
        "  loss = mse(preds, target)\n",
        "  loss.backward()\n",
        "  with torch.no_grad():\n",
        "    w -= w.grad * 1e-5\n",
        "    b -= b.grad * 1e-5\n",
        "    w.grad.zero_()\n",
        "    b.grad.zero_()"
      ],
      "execution_count": 30,
      "outputs": []
    },
    {
      "cell_type": "code",
      "metadata": {
        "colab": {
          "base_uri": "https://localhost:8080/"
        },
        "id": "34jCoDDza8_H",
        "outputId": "15f4b289-f62a-4ba1-9361-abad3f7d4416"
      },
      "source": [
        "preds = model(input)\n",
        "loss = mse(preds, target)\n",
        "print(loss)"
      ],
      "execution_count": 33,
      "outputs": [
        {
          "output_type": "stream",
          "text": [
            "tensor(640.2341, grad_fn=<DivBackward0>)\n"
          ],
          "name": "stdout"
        }
      ]
    },
    {
      "cell_type": "code",
      "metadata": {
        "colab": {
          "base_uri": "https://localhost:8080/"
        },
        "id": "0WxNbllNbINl",
        "outputId": "b93161ee-adbc-404d-c3b2-d12e03ed91b6"
      },
      "source": [
        "print(preds)\n"
      ],
      "execution_count": 34,
      "outputs": [
        {
          "output_type": "stream",
          "text": [
            "tensor([[ 67.7508,  74.7119],\n",
            "        [ 85.9406, 104.8542],\n",
            "        [ 93.1828, 116.3661],\n",
            "        [ 82.4086,  62.1936],\n",
            "        [ 72.5981, 111.8318]], grad_fn=<AddBackward0>)\n"
          ],
          "name": "stdout"
        }
      ]
    },
    {
      "cell_type": "code",
      "metadata": {
        "colab": {
          "base_uri": "https://localhost:8080/"
        },
        "id": "JCGFJCUvbSkm",
        "outputId": "d3100e92-c76d-4513-f45a-4506f85d7670"
      },
      "source": [
        "print(target)"
      ],
      "execution_count": 35,
      "outputs": [
        {
          "output_type": "stream",
          "text": [
            "tensor([[ 56.,  70.],\n",
            "        [ 81., 101.],\n",
            "        [119., 133.],\n",
            "        [ 22.,  37.],\n",
            "        [103., 119.]])\n"
          ],
          "name": "stdout"
        }
      ]
    }
  ]
}